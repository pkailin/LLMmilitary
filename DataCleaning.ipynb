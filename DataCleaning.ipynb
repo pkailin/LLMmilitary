{
 "cells": [
  {
   "cell_type": "code",
   "execution_count": 12,
   "id": "edfd6def-16c2-4e26-9b74-98e0b6859d86",
   "metadata": {},
   "outputs": [
    {
     "name": "stdout",
     "output_type": "stream",
     "text": [
      "                                            positive  \\\n",
      "0  ##Training Scenario: Operation Silent Thunder\\...   \n",
      "1  ##Training Scenario: Operation Iron Wave\\n**Co...   \n",
      "2  ##Training Scenario: Operation Thunderstrike\\n...   \n",
      "3  ##Training Scenario: Operation Desert Storm\\n*...   \n",
      "4  ##Training Scenario: Operation Steel Talon\\n**...   \n",
      "\n",
      "                                            negative  \n",
      "0  ##Training Scenario: Operation Silent Thunder\\...  \n",
      "1  ##Training Scenario: Operation Iron Wave\\n**Co...  \n",
      "2  ##Training Scenario: Operation Thunderstrike\\n...  \n",
      "3  ##Training Scenario: Operation Desert Storm\\n*...  \n",
      "4  ##Training Scenario: Operation Steel Talon\\n**...  \n"
     ]
    }
   ],
   "source": [
    "import pandas as pd\n",
    "\n",
    "df = pd.read_csv('missionData.csv', encoding='latin-1')\n",
    "\n",
    "print(df.head())"
   ]
  },
  {
   "cell_type": "code",
   "execution_count": 13,
   "id": "92b82b90-3ecb-4ff6-b019-6a8f30e0829d",
   "metadata": {},
   "outputs": [
    {
     "name": "stdout",
     "output_type": "stream",
     "text": [
      "                                            positive  \\\n",
      "0  ## Training Scenario: Operation Silent Thunder...   \n",
      "1  ## Training Scenario: Operation Iron Wave\\n\\n*...   \n",
      "2  ## Training Scenario: Operation Thunderstrike\\...   \n",
      "3  ## Training Scenario: Operation Desert Storm\\n...   \n",
      "4  ## Training Scenario: Operation Steel Talon\\n\\...   \n",
      "\n",
      "                                            negative  \n",
      "0  ## Training Scenario: Operation Silent Thunder...  \n",
      "1  ## Training Scenario: Operation Iron Wave\\n\\n*...  \n",
      "2  ## Training Scenario: Operation Thunderstrike\\...  \n",
      "3  ## Training Scenario: Operation Desert Storm\\n...  \n",
      "4  ## Training Scenario: Operation Steel Talon\\n\\...  \n"
     ]
    }
   ],
   "source": [
    "data_list = df.values.tolist()\n",
    "new_data_list = [] \n",
    "\n",
    "# Insert a space at the third index of each row\n",
    "for i in range(50):\n",
    "    new_row = []\n",
    "    for entry in data_list[i]:  \n",
    "        new_entry = entry[0:2] + ' ' + entry[2:]\n",
    "        new_entry = new_entry.replace('**\\n', '**').replace('**', '\\n**').replace(':\\n**', ':**').replace('*', '-').replace('--', '**').replace('', \"'\")\n",
    "        new_entry = new_entry[:100] + new_entry[100:].replace('\\n\\n**', '\\n**')\n",
    "        new_row.append(new_entry)\n",
    "    new_data_list.append(new_row)\n",
    "\n",
    "new_column_names = list(df.columns)\n",
    "new_df = pd.DataFrame(new_data_list, columns=new_column_names)\n",
    "\n",
    "print(new_df.head())"
   ]
  },
  {
   "cell_type": "code",
   "execution_count": 14,
   "id": "8212cd18-c9f2-4937-8df4-1593bfe4eec8",
   "metadata": {
    "scrolled": true
   },
   "outputs": [
    {
     "name": "stdout",
     "output_type": "stream",
     "text": [
      "## Training Scenario: Operation Silent Thunder\n",
      "\n",
      "**Commander's Intent:**\n",
      "- Destroy the REDLAND's radar installation and supply depot.\n",
      "- Ensure 90% bombs on target.\n",
      "- Maximum 40% BLUELAND Air Force losses.\n",
      "- Minimize REDLAND's ability to detect incoming aircraft.\n",
      "\n",
      "**Force Composition:**\n",
      "- REDLAND Air Force: three S-300 surface-to-air missile systems, six MiG-29 fighter jets, and four ZSU-23-4 Shilka self-propelled anti-aircraft gun systems.\n",
      "- REDLAND Ground Forces: 800 troops armed with light infantry weapons and RPGs.\n",
      "\n",
      "**Geography:**\n",
      "- Distance to REDLAND threats: Radar installation: 5 km west of the target, Supply depot: 8 km north of the target.\n",
      "- Environmental Conditions: Dawn mission with clear skies and visibility of 10 km. Target located in a hilly area with sparse vegetation.\n",
      "\n",
      "**Surrounding Conditions:**\n",
      "- REDLAND's Air Force is conducting routine patrols, with increased radar surveillance.\n",
      "- REDLAND's ground forces have set up temporary checkpoints 10 km from the target, but no major reinforcements are expected.\n",
      "- BLUELAND's intelligence reports indicate REDLAND may have mobile SAM units in the vicinity, but their exact positions are unknown.\n",
      "\n",
      "**Target(s) Details:**\n",
      "- Radar installation consists of three radar dishes and a control building.\n",
      "- Supply depot includes two warehouses and an open storage area containing fuel and ammunition.\n",
      "- Both targets are protected by reinforced concrete structures.\n",
      "\n",
      "**Rules of Engagement:**\n",
      "- Engage only identified hostile forces within the mission area.\n",
      "- Avoid civilian casualties and damage to non-military structures.\n",
      "- Use precision-guided munitions to minimize collateral damage.\n",
      "- REDLAND forces will engage if provoked but are not expected to initiate contact unless necessary.\n"
     ]
    }
   ],
   "source": [
    "print(new_df.iloc[0]['positive'])"
   ]
  },
  {
   "cell_type": "code",
   "execution_count": 15,
   "id": "adfd7819-a81e-41b0-b451-4d17830da4ec",
   "metadata": {},
   "outputs": [
    {
     "name": "stdout",
     "output_type": "stream",
     "text": [
      "                                              prompt  \\\n",
      "0  <bos><start_of_turn>user\\nBLUELAND is a make-b...   \n",
      "1  <bos><start_of_turn>user\\nBLUELAND is a make-b...   \n",
      "2  <bos><start_of_turn>user\\nBLUELAND is a make-b...   \n",
      "3  <bos><start_of_turn>user\\nBLUELAND is a make-b...   \n",
      "4  <bos><start_of_turn>user\\nBLUELAND is a make-b...   \n",
      "\n",
      "                                          completion  label  \n",
      "0  <bos><start_of_turn>user\\nBLUELAND is a make-b...   True  \n",
      "1  <bos><start_of_turn>user\\nBLUELAND is a make-b...   True  \n",
      "2  <bos><start_of_turn>user\\nBLUELAND is a make-b...   True  \n",
      "3  <bos><start_of_turn>user\\nBLUELAND is a make-b...   True  \n",
      "4  <bos><start_of_turn>user\\nBLUELAND is a make-b...   True  \n"
     ]
    }
   ],
   "source": [
    "prompt_text = \"\"\"\n",
    "BLUELAND is a make-believe country. REDLAND is another make-believe country, an enemy of BLUELAND. \n",
    "\n",
    "Write me a training scenario for an air strike mission by BLUELAND to destroy a specified target. This scenario will be given to BLUELAND, who will devise a strategy to execute the plan. The scenario should be non-descriptive, concise and factual. The information should be sufficient to help BLUELAND to decide their loadout and strategy. The scenario should include the following information about the target and REDLAND: \n",
    "1.\tCommander’s Intent: Captures the broad mission objectives (eg: 100% TOT, 50% BLUELAND losses, 100% REDLAND destruction, destroy bunkers, etc)\n",
    "2.\tForce Composition: REDLAND’s units and objects participating in the scenario, Order of Battle, i.e the identification, strength, command structure, disposition for the personnel, units, equipment of any military force, command & control hierarchies, communication networks and communication channels. This should be specific, i.e exact model of aircraft or missiles (eg: F-15 fighter jets, SA-7 surface-to-air missile launchers, ZSU-23-4 Shilka self-propelled anti-aircraft gun systems, etc). \n",
    "3.\tGeography: Distance to target and distance to REDLAND threats in nautical miles (nm). Specification of environmental conditions which are of interest (eg: day/night/dawn, buildings, vegetation, ditches in surroundings, etc) \n",
    "4.\tSurrounding Conditions: Overview of all scenario-related information of interest, i.e surrounding military situation, REDLAND readiness state, etc.\n",
    "5.\tTarget(s) Details:  Any relevant information about target(s), i.e type and number of targets. \n",
    "6.\tRules of Engagement: Directives that outline when and how BLUELAND can engage hostile forces.\n",
    "\"\"\"\n",
    "prompt_dict = [{\"role\": \"user\", \"content\": prompt_text}]\n",
    "\n",
    "formatted_df = pd.DataFrame(columns=['prompt', 'completion', 'label'])\n",
    "prompt_lst = []\n",
    "completion_lst = [] \n",
    "label_lst = [] \n",
    "\n",
    "for row in new_df['positive']:\n",
    "    prompt = tokenizer.apply_chat_template(prompt_dict, tokenize=False, add_generation_prompt=True)\n",
    "    completion = prompt + row + \"<eos>\"\n",
    "    prompt_lst.append(prompt)\n",
    "    completion_lst.append(completion)\n",
    "    label_lst.append(True) \n",
    "\n",
    "for row in new_df['negative']:\n",
    "    prompt = tokenizer.apply_chat_template(prompt_dict, tokenize=False, add_generation_prompt=True)\n",
    "    completion = prompt + row + \"<eos>\"\n",
    "    prompt_lst.append(prompt)\n",
    "    completion_lst.append(completion)\n",
    "    label_lst.append(False) \n",
    "\n",
    "formatted_df['prompt'] = prompt_lst\n",
    "formatted_df['completion'] = completion_lst\n",
    "formatted_df['label'] = label_lst\n",
    "\n",
    "print(formatted_df.head())"
   ]
  },
  {
   "cell_type": "code",
   "execution_count": 16,
   "id": "96664cea-e322-43da-88b1-292a1f622f0e",
   "metadata": {},
   "outputs": [
    {
     "data": {
      "application/vnd.jupyter.widget-view+json": {
       "model_id": "93a837ce31994599ad1215dbcfc99cb5",
       "version_major": 2,
       "version_minor": 0
      },
      "text/plain": [
       "Loading checkpoint shards:   0%|          | 0/4 [00:00<?, ?it/s]"
      ]
     },
     "metadata": {},
     "output_type": "display_data"
    }
   ],
   "source": [
    "from trl import KTOConfig, KTOTrainer, ModelConfig, get_peft_config, setup_chat_format\n",
    "from transformers import AutoTokenizer, AutoModelForCausalLM\n",
    "import torch\n",
    "\n",
    "tokenizer = AutoTokenizer.from_pretrained(\"google/gemma-1.1-7b-it\")\n",
    "model = AutoModelForCausalLM.from_pretrained(\n",
    "    \"google/gemma-1.1-7b-it\",\n",
    "    device_map=\"cuda\",\n",
    "    torch_dtype=torch.bfloat16\n",
    ")"
   ]
  },
  {
   "cell_type": "code",
   "execution_count": 17,
   "id": "0b95fbe8-0538-4d77-901e-66b5c1373de6",
   "metadata": {},
   "outputs": [
    {
     "name": "stdout",
     "output_type": "stream",
     "text": [
      "<bos><start_of_turn>user\n",
      "BLUELAND is a make-believe country. REDLAND is another make-believe country, an enemy of BLUELAND. \n",
      "\n",
      "Write me a training scenario for an air strike mission by BLUELAND to destroy a specified target. This scenario will be given to BLUELAND, who will devise a strategy to execute the plan. The scenario should be non-descriptive, concise and factual. The information should be sufficient to help BLUELAND to decide their loadout and strategy. The scenario should include the following information about the target and REDLAND: \n",
      "1.\tCommander’s Intent: Captures the broad mission objectives (eg: 100% TOT, 50% BLUELAND losses, 100% REDLAND destruction, destroy bunkers, etc)\n",
      "2.\tForce Composition: REDLAND’s units and objects participating in the scenario, Order of Battle, i.e the identification, strength, command structure, disposition for the personnel, units, equipment of any military force, command & control hierarchies, communication networks and communication channels. This should be specific, i.e exact model of aircraft or missiles (eg: F-15 fighter jets, SA-7 surface-to-air missile launchers, ZSU-23-4 Shilka self-propelled anti-aircraft gun systems, etc). \n",
      "3.\tGeography: Distance to target and distance to REDLAND threats in nautical miles (nm). Specification of environmental conditions which are of interest (eg: day/night/dawn, buildings, vegetation, ditches in surroundings, etc) \n",
      "4.\tSurrounding Conditions: Overview of all scenario-related information of interest, i.e surrounding military situation, REDLAND readiness state, etc.\n",
      "5.\tTarget(s) Details:  Any relevant information about target(s), i.e type and number of targets. \n",
      "6.\tRules of Engagement: Directives that outline when and how BLUELAND can engage hostile forces.<end_of_turn>\n",
      "<start_of_turn>model\n",
      "\n"
     ]
    }
   ],
   "source": [
    "print(formatted_df['prompt'][0])"
   ]
  },
  {
   "cell_type": "code",
   "execution_count": 18,
   "id": "bc6caf21-87ed-4ca1-9d7d-5a74478fbe4b",
   "metadata": {},
   "outputs": [
    {
     "name": "stdout",
     "output_type": "stream",
     "text": [
      "<bos><start_of_turn>user\n",
      "BLUELAND is a make-believe country. REDLAND is another make-believe country, an enemy of BLUELAND. \n",
      "\n",
      "Write me a training scenario for an air strike mission by BLUELAND to destroy a specified target. This scenario will be given to BLUELAND, who will devise a strategy to execute the plan. The scenario should be non-descriptive, concise and factual. The information should be sufficient to help BLUELAND to decide their loadout and strategy. The scenario should include the following information about the target and REDLAND: \n",
      "1.\tCommander’s Intent: Captures the broad mission objectives (eg: 100% TOT, 50% BLUELAND losses, 100% REDLAND destruction, destroy bunkers, etc)\n",
      "2.\tForce Composition: REDLAND’s units and objects participating in the scenario, Order of Battle, i.e the identification, strength, command structure, disposition for the personnel, units, equipment of any military force, command & control hierarchies, communication networks and communication channels. This should be specific, i.e exact model of aircraft or missiles (eg: F-15 fighter jets, SA-7 surface-to-air missile launchers, ZSU-23-4 Shilka self-propelled anti-aircraft gun systems, etc). \n",
      "3.\tGeography: Distance to target and distance to REDLAND threats in nautical miles (nm). Specification of environmental conditions which are of interest (eg: day/night/dawn, buildings, vegetation, ditches in surroundings, etc) \n",
      "4.\tSurrounding Conditions: Overview of all scenario-related information of interest, i.e surrounding military situation, REDLAND readiness state, etc.\n",
      "5.\tTarget(s) Details:  Any relevant information about target(s), i.e type and number of targets. \n",
      "6.\tRules of Engagement: Directives that outline when and how BLUELAND can engage hostile forces.<end_of_turn>\n",
      "<start_of_turn>model\n",
      "## Training Scenario: Operation Silent Thunder\n",
      "\n",
      "**Commander's Intent:**\n",
      "- Destroy the REDLAND's radar installation and supply depot.\n",
      "- Ensure 90% bombs on target.\n",
      "- Maximum 40% BLUELAND Air Force losses.\n",
      "- Minimize REDLAND's ability to detect incoming aircraft.\n",
      "\n",
      "**Force Composition:**\n",
      "- REDLAND Air Force: three S-300 surface-to-air missile systems, six MiG-29 fighter jets, and four ZSU-23-4 Shilka self-propelled anti-aircraft gun systems.\n",
      "- REDLAND Ground Forces: 800 troops armed with light infantry weapons and RPGs.\n",
      "\n",
      "**Geography:**\n",
      "- Distance to REDLAND threats: Radar installation: 5 km west of the target, Supply depot: 8 km north of the target.\n",
      "- Environmental Conditions: Dawn mission with clear skies and visibility of 10 km. Target located in a hilly area with sparse vegetation.\n",
      "\n",
      "**Surrounding Conditions:**\n",
      "- REDLAND's Air Force is conducting routine patrols, with increased radar surveillance.\n",
      "- REDLAND's ground forces have set up temporary checkpoints 10 km from the target, but no major reinforcements are expected.\n",
      "- BLUELAND's intelligence reports indicate REDLAND may have mobile SAM units in the vicinity, but their exact positions are unknown.\n",
      "\n",
      "**Target(s) Details:**\n",
      "- Radar installation consists of three radar dishes and a control building.\n",
      "- Supply depot includes two warehouses and an open storage area containing fuel and ammunition.\n",
      "- Both targets are protected by reinforced concrete structures.\n",
      "\n",
      "**Rules of Engagement:**\n",
      "- Engage only identified hostile forces within the mission area.\n",
      "- Avoid civilian casualties and damage to non-military structures.\n",
      "- Use precision-guided munitions to minimize collateral damage.\n",
      "- REDLAND forces will engage if provoked but are not expected to initiate contact unless necessary.<eos>\n"
     ]
    }
   ],
   "source": [
    "print(formatted_df['completion'][0])"
   ]
  },
  {
   "cell_type": "code",
   "execution_count": 19,
   "id": "7b6e9647-7627-4d2d-9d53-0043f99a5254",
   "metadata": {},
   "outputs": [],
   "source": [
    "formatted_df.to_csv('missionData_llm.csv', index=False)"
   ]
  },
  {
   "cell_type": "code",
   "execution_count": null,
   "id": "be8d911b-465c-457d-9182-056c0d40724c",
   "metadata": {},
   "outputs": [],
   "source": []
  }
 ],
 "metadata": {
  "kernelspec": {
   "display_name": "Python 3 (ipykernel)",
   "language": "python",
   "name": "python3"
  },
  "language_info": {
   "codemirror_mode": {
    "name": "ipython",
    "version": 3
   },
   "file_extension": ".py",
   "mimetype": "text/x-python",
   "name": "python",
   "nbconvert_exporter": "python",
   "pygments_lexer": "ipython3",
   "version": "3.10.14"
  }
 },
 "nbformat": 4,
 "nbformat_minor": 5
}
