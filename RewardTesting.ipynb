{
 "cells": [
  {
   "cell_type": "markdown",
   "id": "48aab30a-7a0d-47c2-97eb-78dea8202006",
   "metadata": {},
   "source": [
    "**DATA CLEANING**"
   ]
  },
  {
   "cell_type": "code",
   "execution_count": 70,
   "id": "9e62235d-de32-458e-8452-b15f66a639ac",
   "metadata": {},
   "outputs": [
    {
     "name": "stdout",
     "output_type": "stream",
     "text": [
      "                                            positive  \\\n",
      "0  ##Training Scenario: Operation Steel Rain\\n**C...   \n",
      "1  ##Training Scenario: Operation Silent Thunder\\...   \n",
      "2  ##Training Scenario: Operation Steel Tempest\\n...   \n",
      "3  ##Training Scenario: Operation Silent Thunder\\...   \n",
      "4  ##Training Scenario: Operation Emerald Dawn\\n*...   \n",
      "\n",
      "                                            negative  \n",
      "0  ##Training Scenario: Operation Steel Rain\\n**C...  \n",
      "1  ##Training Scenario: Operation Silent Thunder\\...  \n",
      "2  ##Training Scenario: Operation Steel Tempest\\n...  \n",
      "3  ##Training Scenario: Operation Silent Thunder\\...  \n",
      "4  ##Training Scenario: Operation Emerald Dawn\\n*...  \n"
     ]
    }
   ],
   "source": [
    "import pandas as pd\n",
    "\n",
    "df = pd.read_csv('missionData_test.csv', encoding='latin-1')\n",
    "df = df.replace('km', 'nm', regex=True)\n",
    "df.to_csv('missionData_test.csv', index=False)\n",
    "\n",
    "print(df.head())"
   ]
  },
  {
   "cell_type": "code",
   "execution_count": 71,
   "id": "bd89da7f-2224-4400-8bfe-22cefc3e2d86",
   "metadata": {},
   "outputs": [
    {
     "name": "stdout",
     "output_type": "stream",
     "text": [
      "                                            positive  \\\n",
      "0  ## Training Scenario: Operation Steel Rain\\n\\n...   \n",
      "1  ## Training Scenario: Operation Silent Thunder...   \n",
      "2  ## Training Scenario: Operation Steel Tempest\\...   \n",
      "3  ## Training Scenario: Operation Silent Thunder...   \n",
      "4  ## Training Scenario: Operation Emerald Dawn\\n...   \n",
      "\n",
      "                                            negative  \n",
      "0  ## Training Scenario: Operation Steel Rain\\n\\n...  \n",
      "1  ## Training Scenario: Operation Silent Thunder...  \n",
      "2  ## Training Scenario: Operation Steel Tempest\\...  \n",
      "3  ## Training Scenario: Operation Silent Thunder...  \n",
      "4  ## Training Scenario: Operation Emerald Dawn\\n...  \n"
     ]
    }
   ],
   "source": [
    "data_list = df.values.tolist()\n",
    "new_data_list = [] \n",
    "\n",
    "# Insert a space at the third index of each row\n",
    "for i in range(15):\n",
    "    new_row = []\n",
    "    for entry in data_list[i]:  \n",
    "        new_entry = entry[0:2] + ' ' + entry[2:]\n",
    "        new_entry = new_entry.replace('**\\n', '**').replace('**', '\\n**').replace(':\\n**', ':**').replace('*', '-').replace('--', '**').replace('', \"'\")\n",
    "        new_entry = new_entry[:100] + new_entry[100:].replace('\\n\\n**', '\\n**')\n",
    "        new_row.append(new_entry)\n",
    "    new_data_list.append(new_row)\n",
    "\n",
    "new_column_names = list(df.columns)\n",
    "new_df = pd.DataFrame(new_data_list, columns=new_column_names)\n",
    "\n",
    "print(new_df.head())"
   ]
  },
  {
   "cell_type": "code",
   "execution_count": 72,
   "id": "974e9152-f4b7-473c-9059-2bec27c62885",
   "metadata": {},
   "outputs": [
    {
     "name": "stdout",
     "output_type": "stream",
     "text": [
      "## Training Scenario: Operation Steel Rain\n",
      "\n",
      "**CommanderÂ's Intent:**\n",
      "- Neutralize the enemy air defense network.\n",
      "- Destroy the primary radar installations.\n",
      "- Achieve air superiority with minimal losses.\n",
      "- 100% precision on primary targets.\n",
      "\n",
      "**Force Composition:**\n",
      "- REDLAND Air Force: six SA-10 Grumble surface-to-air missile launchers, four MiG-29 fighter jets.\n",
      "- REDLAND Ground Forces: 800 troops equipped with small arms, anti-aircraft machine guns, and two T-72 tanks.\n",
      "\n",
      "**Geography:**\n",
      "- Distance to REDLAND threats: SA-10 sites: 12 nm west and 18 nm north of the target, Airbase: 25 nm southeast of the target.\n",
      "- Environmental Conditions: Dawn mission with fog reducing visibility to 3 nm. Target is located in a mountainous region with dense forest cover.\n",
      "\n",
      "**Surrounding Conditions:**\n",
      "- REDLAND's Air Force has increased surveillance patrols due to recent BLUELAND incursions.\n",
      "- REDLAND's ground forces have fortified positions around the radar installations but are spread thin due to ongoing operations in nearby areas.\n",
      "- BLUELAND intelligence indicates the presence of mobile radar units not previously accounted for.\n",
      "\n",
      "**Target(s) Details:**\n",
      "- Primary targets: Three radar installations protected by reinforced concrete bunkers.\n",
      "- Secondary targets: Mobile radar units and communications trucks.\n",
      "\n",
      "**Rules of Engagement:**\n",
      "- REDLAND forces are deemed hostile and will engage upon detection.\n",
      "- Minimize collateral damage to nearby civilian infrastructure.\n",
      "- Engage only designated military targets to avoid civilian casualties.\n",
      "- Follow strict communication protocols to prevent friendly fire incidents.\n"
     ]
    }
   ],
   "source": [
    "print(new_df.iloc[0]['positive'])"
   ]
  },
  {
   "cell_type": "code",
   "execution_count": 73,
   "id": "bd613453-10c6-44ee-b2f0-4525280dac9c",
   "metadata": {},
   "outputs": [
    {
     "data": {
      "application/vnd.jupyter.widget-view+json": {
       "model_id": "ba19a10e4f16428d90dd4646d67c7713",
       "version_major": 2,
       "version_minor": 0
      },
      "text/plain": [
       "Loading checkpoint shards:   0%|          | 0/4 [00:00<?, ?it/s]"
      ]
     },
     "metadata": {},
     "output_type": "display_data"
    },
    {
     "name": "stdout",
     "output_type": "stream",
     "text": [
      "                                              prompt  \\\n",
      "0  <bos><start_of_turn>user\\nBLUELAND is a make-b...   \n",
      "1  <bos><start_of_turn>user\\nBLUELAND is a make-b...   \n",
      "2  <bos><start_of_turn>user\\nBLUELAND is a make-b...   \n",
      "3  <bos><start_of_turn>user\\nBLUELAND is a make-b...   \n",
      "4  <bos><start_of_turn>user\\nBLUELAND is a make-b...   \n",
      "\n",
      "                                          completion  label  \n",
      "0  <bos><start_of_turn>user\\nBLUELAND is a make-b...   True  \n",
      "1  <bos><start_of_turn>user\\nBLUELAND is a make-b...   True  \n",
      "2  <bos><start_of_turn>user\\nBLUELAND is a make-b...   True  \n",
      "3  <bos><start_of_turn>user\\nBLUELAND is a make-b...   True  \n",
      "4  <bos><start_of_turn>user\\nBLUELAND is a make-b...   True  \n"
     ]
    }
   ],
   "source": [
    "from trl import KTOConfig, KTOTrainer, ModelConfig, get_peft_config, setup_chat_format\n",
    "from transformers import AutoTokenizer, AutoModelForCausalLM\n",
    "import torch\n",
    "\n",
    "tokenizer = AutoTokenizer.from_pretrained(\"google/gemma-1.1-7b-it\")\n",
    "model = AutoModelForCausalLM.from_pretrained(\n",
    "    \"google/gemma-1.1-7b-it\",\n",
    "    device_map=\"cuda\",\n",
    "    torch_dtype=torch.bfloat16\n",
    ")\n",
    "\n",
    "prompt_text = \"\"\"\n",
    "BLUELAND is a make-believe country. REDLAND is another make-believe country, an enemy of BLUELAND. \n",
    "\n",
    "Write me a training scenario for an air strike mission by BLUELAND to destroy a specified target. This scenario will be given to BLUELAND, who will devise a strategy to execute the plan. The scenario should be non-descriptive, concise and factual. The information should be sufficient to help BLUELAND to decide their loadout and strategy. The scenario should include the following information about the target and REDLAND: \n",
    "1.\tCommander’s Intent: Captures the broad mission objectives (eg: 100% TOT, 50% BLUELAND losses, 100% REDLAND destruction, destroy bunkers, etc)\n",
    "2.\tForce Composition: REDLAND’s units and objects participating in the scenario, Order of Battle, i.e the identification, strength, command structure, disposition for the personnel, units, equipment of any military force, command & control hierarchies, communication networks and communication channels. This should be specific, i.e exact model of aircraft or missiles (eg: F-15 fighter jets, SA-7 surface-to-air missile launchers, ZSU-23-4 Shilka self-propelled anti-aircraft gun systems, etc). \n",
    "3.\tGeography: Distance to target and distance to REDLAND threats in nautical miles (nm). Specification of environmental conditions which are of interest (eg: day/night/dawn, buildings, vegetation, ditches in surroundings, etc) \n",
    "4.\tSurrounding Conditions: Overview of all scenario-related information of interest, i.e surrounding military situation, REDLAND readiness state, etc.\n",
    "5.\tTarget(s) Details:  Any relevant information about target(s), i.e type and number of targets. \n",
    "6.\tRules of Engagement: Directives that outline when and how BLUELAND can engage hostile forces.\n",
    "\"\"\"\n",
    "prompt_dict = [{\"role\": \"user\", \"content\": prompt_text}]\n",
    "\n",
    "formatted_df = pd.DataFrame(columns=['prompt', 'completion', 'label'])\n",
    "prompt_lst = []\n",
    "completion_lst = [] \n",
    "label_lst = [] \n",
    "\n",
    "for row in new_df['positive']:\n",
    "    prompt = tokenizer.apply_chat_template(prompt_dict, tokenize=False, add_generation_prompt=True)\n",
    "    completion = prompt + row + \"<eos>\"\n",
    "    prompt_lst.append(prompt)\n",
    "    completion_lst.append(completion)\n",
    "    label_lst.append(True) \n",
    "\n",
    "for row in new_df['negative']:\n",
    "    prompt = tokenizer.apply_chat_template(prompt_dict, tokenize=False, add_generation_prompt=True)\n",
    "    completion = prompt + row + \"<eos>\"\n",
    "    prompt_lst.append(prompt)\n",
    "    completion_lst.append(completion)\n",
    "    label_lst.append(False) \n",
    "\n",
    "formatted_df['prompt'] = prompt_lst\n",
    "formatted_df['completion'] = completion_lst\n",
    "formatted_df['label'] = label_lst\n",
    "\n",
    "print(formatted_df.head())"
   ]
  },
  {
   "cell_type": "code",
   "execution_count": 74,
   "id": "0c629673-a1b5-4329-8df8-4c41d98e3d49",
   "metadata": {},
   "outputs": [
    {
     "name": "stdout",
     "output_type": "stream",
     "text": [
      "<bos><start_of_turn>user\n",
      "BLUELAND is a make-believe country. REDLAND is another make-believe country, an enemy of BLUELAND. \n",
      "\n",
      "Write me a training scenario for an air strike mission by BLUELAND to destroy a specified target. This scenario will be given to BLUELAND, who will devise a strategy to execute the plan. The scenario should be non-descriptive, concise and factual. The information should be sufficient to help BLUELAND to decide their loadout and strategy. The scenario should include the following information about the target and REDLAND: \n",
      "1.\tCommander’s Intent: Captures the broad mission objectives (eg: 100% TOT, 50% BLUELAND losses, 100% REDLAND destruction, destroy bunkers, etc)\n",
      "2.\tForce Composition: REDLAND’s units and objects participating in the scenario, Order of Battle, i.e the identification, strength, command structure, disposition for the personnel, units, equipment of any military force, command & control hierarchies, communication networks and communication channels. This should be specific, i.e exact model of aircraft or missiles (eg: F-15 fighter jets, SA-7 surface-to-air missile launchers, ZSU-23-4 Shilka self-propelled anti-aircraft gun systems, etc). \n",
      "3.\tGeography: Distance to target and distance to REDLAND threats in nautical miles (nm). Specification of environmental conditions which are of interest (eg: day/night/dawn, buildings, vegetation, ditches in surroundings, etc) \n",
      "4.\tSurrounding Conditions: Overview of all scenario-related information of interest, i.e surrounding military situation, REDLAND readiness state, etc.\n",
      "5.\tTarget(s) Details:  Any relevant information about target(s), i.e type and number of targets. \n",
      "6.\tRules of Engagement: Directives that outline when and how BLUELAND can engage hostile forces.<end_of_turn>\n",
      "<start_of_turn>model\n",
      "\n"
     ]
    }
   ],
   "source": [
    "print(formatted_df['prompt'][0])"
   ]
  },
  {
   "cell_type": "code",
   "execution_count": 75,
   "id": "33564e05-dd42-44a6-8fa7-ba22a55e5816",
   "metadata": {
    "scrolled": true
   },
   "outputs": [
    {
     "name": "stdout",
     "output_type": "stream",
     "text": [
      "<bos><start_of_turn>user\n",
      "BLUELAND is a make-believe country. REDLAND is another make-believe country, an enemy of BLUELAND. \n",
      "\n",
      "Write me a training scenario for an air strike mission by BLUELAND to destroy a specified target. This scenario will be given to BLUELAND, who will devise a strategy to execute the plan. The scenario should be non-descriptive, concise and factual. The information should be sufficient to help BLUELAND to decide their loadout and strategy. The scenario should include the following information about the target and REDLAND: \n",
      "1.\tCommander’s Intent: Captures the broad mission objectives (eg: 100% TOT, 50% BLUELAND losses, 100% REDLAND destruction, destroy bunkers, etc)\n",
      "2.\tForce Composition: REDLAND’s units and objects participating in the scenario, Order of Battle, i.e the identification, strength, command structure, disposition for the personnel, units, equipment of any military force, command & control hierarchies, communication networks and communication channels. This should be specific, i.e exact model of aircraft or missiles (eg: F-15 fighter jets, SA-7 surface-to-air missile launchers, ZSU-23-4 Shilka self-propelled anti-aircraft gun systems, etc). \n",
      "3.\tGeography: Distance to target and distance to REDLAND threats in nautical miles (nm). Specification of environmental conditions which are of interest (eg: day/night/dawn, buildings, vegetation, ditches in surroundings, etc) \n",
      "4.\tSurrounding Conditions: Overview of all scenario-related information of interest, i.e surrounding military situation, REDLAND readiness state, etc.\n",
      "5.\tTarget(s) Details:  Any relevant information about target(s), i.e type and number of targets. \n",
      "6.\tRules of Engagement: Directives that outline when and how BLUELAND can engage hostile forces.<end_of_turn>\n",
      "<start_of_turn>model\n",
      "## Training Scenario: Operation Steel Rain\n",
      "\n",
      "**CommanderÂ's Intent:**\n",
      "- Neutralize the enemy air defense network.\n",
      "- Destroy the primary radar installations.\n",
      "- Achieve air superiority with minimal losses.\n",
      "- 100% precision on primary targets.\n",
      "\n",
      "**Force Composition:**\n",
      "- REDLAND Air Force: six SA-10 Grumble surface-to-air missile launchers, four MiG-29 fighter jets.\n",
      "- REDLAND Ground Forces: 800 troops equipped with small arms, anti-aircraft machine guns, and two T-72 tanks.\n",
      "\n",
      "**Geography:**\n",
      "- Distance to REDLAND threats: SA-10 sites: 12 nm west and 18 nm north of the target, Airbase: 25 nm southeast of the target.\n",
      "- Environmental Conditions: Dawn mission with fog reducing visibility to 3 nm. Target is located in a mountainous region with dense forest cover.\n",
      "\n",
      "**Surrounding Conditions:**\n",
      "- REDLAND's Air Force has increased surveillance patrols due to recent BLUELAND incursions.\n",
      "- REDLAND's ground forces have fortified positions around the radar installations but are spread thin due to ongoing operations in nearby areas.\n",
      "- BLUELAND intelligence indicates the presence of mobile radar units not previously accounted for.\n",
      "\n",
      "**Target(s) Details:**\n",
      "- Primary targets: Three radar installations protected by reinforced concrete bunkers.\n",
      "- Secondary targets: Mobile radar units and communications trucks.\n",
      "\n",
      "**Rules of Engagement:**\n",
      "- REDLAND forces are deemed hostile and will engage upon detection.\n",
      "- Minimize collateral damage to nearby civilian infrastructure.\n",
      "- Engage only designated military targets to avoid civilian casualties.\n",
      "- Follow strict communication protocols to prevent friendly fire incidents.<eos>\n"
     ]
    }
   ],
   "source": [
    "print(formatted_df['completion'][0])"
   ]
  },
  {
   "cell_type": "code",
   "execution_count": 76,
   "id": "0203c731-d3eb-4a71-a8fe-3fc9005d5489",
   "metadata": {},
   "outputs": [],
   "source": [
    "formatted_df = formatted_df.replace('km', 'nm', regex=True)"
   ]
  },
  {
   "cell_type": "code",
   "execution_count": 77,
   "id": "460c03c4-97d6-485d-bade-ffb5a3a9d8e5",
   "metadata": {},
   "outputs": [],
   "source": [
    "formatted_df.to_csv('missionData_test_llm.csv', index=False)"
   ]
  },
  {
   "cell_type": "markdown",
   "id": "925890fb-8546-466e-9e4e-b4b11d24a671",
   "metadata": {},
   "source": [
    "**MODEL INFERENCE**"
   ]
  },
  {
   "cell_type": "code",
   "execution_count": 78,
   "id": "80083eb0-2f5c-42ba-984f-5a8d954dbde8",
   "metadata": {},
   "outputs": [
    {
     "name": "stdout",
     "output_type": "stream",
     "text": [
      "                                              prompt  \\\n",
      "0  <bos><start_of_turn>user\\nBLUELAND is a make-b...   \n",
      "1  <bos><start_of_turn>user\\nBLUELAND is a make-b...   \n",
      "2  <bos><start_of_turn>user\\nBLUELAND is a make-b...   \n",
      "3  <bos><start_of_turn>user\\nBLUELAND is a make-b...   \n",
      "4  <bos><start_of_turn>user\\nBLUELAND is a make-b...   \n",
      "\n",
      "                                          completion  label  \n",
      "0  <bos><start_of_turn>user\\nBLUELAND is a make-b...   True  \n",
      "1  <bos><start_of_turn>user\\nBLUELAND is a make-b...   True  \n",
      "2  <bos><start_of_turn>user\\nBLUELAND is a make-b...   True  \n",
      "3  <bos><start_of_turn>user\\nBLUELAND is a make-b...   True  \n",
      "4  <bos><start_of_turn>user\\nBLUELAND is a make-b...   True  \n"
     ]
    }
   ],
   "source": [
    "df = pd.read_csv('missionData_test_llm.csv')\n",
    "print(df.head())"
   ]
  },
  {
   "cell_type": "code",
   "execution_count": 79,
   "id": "b80fc421-0f79-4d20-956e-b25b2068410e",
   "metadata": {},
   "outputs": [],
   "source": [
    "completion_lst = df['completion'].tolist()"
   ]
  },
  {
   "cell_type": "code",
   "execution_count": 80,
   "id": "40b386ab-a82e-4594-96e8-557b9b9e13e1",
   "metadata": {},
   "outputs": [],
   "source": [
    "new_df = pd.DataFrame(columns=['chosen_response', 'rejected_response'])\n",
    "chosen_lst = []\n",
    "rejected_lst = [] \n",
    "\n",
    "for i in range(15): \n",
    "    chosen_lst.append(completion_lst[i])\n",
    "    rejected_lst.append(completion_lst[i+15])\n",
    "\n",
    "new_df['chosen_response'] = chosen_lst\n",
    "new_df['rejected_response'] = rejected_lst"
   ]
  },
  {
   "cell_type": "code",
   "execution_count": 81,
   "id": "a1cfe090-4036-4a4f-b3ed-055a8ad1e4d4",
   "metadata": {},
   "outputs": [
    {
     "name": "stdout",
     "output_type": "stream",
     "text": [
      "                                     chosen_response  \\\n",
      "0  <bos><start_of_turn>user\\nBLUELAND is a make-b...   \n",
      "1  <bos><start_of_turn>user\\nBLUELAND is a make-b...   \n",
      "2  <bos><start_of_turn>user\\nBLUELAND is a make-b...   \n",
      "3  <bos><start_of_turn>user\\nBLUELAND is a make-b...   \n",
      "4  <bos><start_of_turn>user\\nBLUELAND is a make-b...   \n",
      "\n",
      "                                   rejected_response  \n",
      "0  <bos><start_of_turn>user\\nBLUELAND is a make-b...  \n",
      "1  <bos><start_of_turn>user\\nBLUELAND is a make-b...  \n",
      "2  <bos><start_of_turn>user\\nBLUELAND is a make-b...  \n",
      "3  <bos><start_of_turn>user\\nBLUELAND is a make-b...  \n",
      "4  <bos><start_of_turn>user\\nBLUELAND is a make-b...  \n"
     ]
    }
   ],
   "source": [
    "print(new_df.head())"
   ]
  },
  {
   "cell_type": "code",
   "execution_count": 9,
   "id": "8292b7e0-1b17-4fd6-85b8-19eae5afbe78",
   "metadata": {},
   "outputs": [],
   "source": [
    "from transformers import AutoTokenizer, AutoModelForSequenceClassification\n",
    "\n",
    "reward_tokenizer = AutoTokenizer.from_pretrained(\"./rewardmodel1\")\n",
    "\n",
    "reward_model = AutoModelForSequenceClassification.from_pretrained(\"./rewardmodel1\")\n",
    "\n",
    "def get_score(model, tokenizer, response):\n",
    "    # Tokenize the input sequences\n",
    "    inputs = tokenizer.encode_plus(response, truncation=True, padding=\"max_length\", max_length=512, return_tensors=\"pt\")\n",
    "\n",
    "    # Perform forward pass\n",
    "    with torch.no_grad():\n",
    "        outputs = model(**inputs)\n",
    "\n",
    "    # Extract the logits\n",
    "    logits = outputs.logits\n",
    "\n",
    "    return logits.item()"
   ]
  },
  {
   "cell_type": "code",
   "execution_count": 83,
   "id": "2d9eed6a-7fc9-4967-8ca3-7c9a2e3498d8",
   "metadata": {},
   "outputs": [
    {
     "name": "stdout",
     "output_type": "stream",
     "text": [
      "Test Accuracy: 1.0\n"
     ]
    }
   ],
   "source": [
    "acc_score = 0 \n",
    "for index, row in new_df.iterrows():\n",
    "    pos_score = get_score(reward_model, reward_tokenizer, row['chosen_response'])\n",
    "    neg_score = get_score(reward_model, reward_tokenizer, row['rejected_response'])\n",
    "    if pos_score > neg_score: \n",
    "        acc_score += 1 \n",
    "\n",
    "print(\"Test Accuracy: \" + str(acc_score/15))"
   ]
  },
  {
   "cell_type": "code",
   "execution_count": 84,
   "id": "bdee1898-f1e3-4500-97cf-843d1dfabca7",
   "metadata": {
    "scrolled": true
   },
   "outputs": [
    {
     "name": "stdout",
     "output_type": "stream",
     "text": [
      "3.474468946456909\n",
      "-3.5136191844940186\n",
      "2.1519851684570312\n",
      "-3.3686885833740234\n",
      "3.777466058731079\n",
      "-3.212291717529297\n",
      "3.503709077835083\n",
      "-3.234174966812134\n",
      "3.280758857727051\n",
      "-3.1601288318634033\n",
      "2.0340657234191895\n",
      "-3.095118522644043\n",
      "3.1709370613098145\n",
      "-3.381279468536377\n",
      "0.7367986440658569\n",
      "-3.483863353729248\n",
      "3.4497804641723633\n",
      "-3.5544815063476562\n",
      "3.697136402130127\n",
      "-3.5514039993286133\n",
      "3.03928279876709\n",
      "-3.557669162750244\n",
      "0.8609474897384644\n",
      "-3.4640491008758545\n",
      "1.2381253242492676\n",
      "-3.514378070831299\n",
      "0.8609474897384644\n",
      "-3.488250732421875\n",
      "1.0660895109176636\n",
      "-3.4851527214050293\n"
     ]
    }
   ],
   "source": [
    "for index, row in new_df.iterrows():\n",
    "    pos_score = get_score(reward_model, reward_tokenizer, row['chosen_response'])\n",
    "    neg_score = get_score(reward_model, reward_tokenizer, row['rejected_response'])\n",
    "    print(pos_score)\n",
    "    print(neg_score)"
   ]
  },
  {
   "cell_type": "markdown",
   "id": "ccba423d-5137-40bf-8c5e-b062cebe6236",
   "metadata": {},
   "source": [
    "Even though I included responses from llama 7B model, it was still able to get the upvoted response with 100% accuracy. "
   ]
  },
  {
   "cell_type": "markdown",
   "id": "500b8627-f751-4a48-bd7b-0ff3f54530bc",
   "metadata": {},
   "source": [
    "Finding optimal N: \n",
    "1. By increasing N, can the reward model still find the upvoted response? (1 upvoted, N-1 downvoted) --> from above scores, you can see that the downvoted responses are all lower in score than upvoted responses meaning the accuracy is 100% as I increase N from 2 to 15. \n",
    "3. Multiple runs with the actual model. By increasing N, does the overall score improve? At what point does it plateau? (Plot cost vs performance)"
   ]
  },
  {
   "cell_type": "code",
   "execution_count": 2,
   "id": "c6475e0a-ac86-4ff0-8725-3a1304c8fa50",
   "metadata": {},
   "outputs": [
    {
     "data": {
      "application/vnd.jupyter.widget-view+json": {
       "model_id": "2128eaab99574c8ea0fa236dc2be430c",
       "version_major": 2,
       "version_minor": 0
      },
      "text/plain": [
       "Loading checkpoint shards:   0%|          | 0/4 [00:00<?, ?it/s]"
      ]
     },
     "metadata": {},
     "output_type": "display_data"
    }
   ],
   "source": [
    "from transformers import AutoTokenizer, AutoModelForCausalLM\n",
    "import torch\n",
    "\n",
    "tokenizer = AutoTokenizer.from_pretrained(\"google/gemma-1.1-7b-it\")\n",
    "model = AutoModelForCausalLM.from_pretrained(\n",
    "    \"google/gemma-1.1-7b-it\",\n",
    "    device_map=\"cuda\",\n",
    "    torch_dtype=torch.bfloat16\n",
    ")\n",
    "\n",
    "input_text = \"\"\"\n",
    "BLUELAND is a make-believe country. REDLAND is another make-believe country, an enemy of BLUELAND. \n",
    "\n",
    "Write me a training scenario for an air strike mission by BLUELAND to destroy a specified target. This scenario will be given to BLUELAND, who will devise a strategy to execute the plan. The scenario should be non-descriptive, concise and factual. The information should be sufficient to help BLUELAND to decide their loadout and strategy. The scenario should include the following information about the target and REDLAND: \n",
    "1.\tCommander’s Intent: Captures the broad mission objectives (eg: 100% TOT, 50% BLUELAND losses, 100% REDLAND destruction, destroy bunkers, etc)\n",
    "2.\tForce Composition: REDLAND’s units and objects participating in the scenario, Order of Battle, i.e the identification, strength, command structure, disposition for the personnel, units, equipment of any military force, command & control hierarchies, communication networks and communication channels. This should be specific, i.e exact model of aircraft or missiles (eg: F-15 fighter jets, SA-7 surface-to-air missile launchers, ZSU-23-4 Shilka self-propelled anti-aircraft gun systems, etc). \n",
    "3.\tGeography: Distance to target and distance to REDLAND threats  in nautical miles (nm). Specification of environmental conditions which are of interest (eg: day/night/dawn, buildings, vegetation, ditches in surroundings, etc) \n",
    "4.\tSurrounding Conditions: Overview of all scenario-related information of interest, i.e surrounding military situation, REDLAND readiness state, etc.\n",
    "5.\tTarget(s) Details:  Any relevant information about target(s), i.e type and number of targets. \n",
    "6.\tRules of Engagement: Directives that outline when and how BLUELAND can engage hostile forces.\n",
    "\"\"\"\n",
    "dict = {}\n",
    "dict[\"role\"] = \"user\"\n",
    "dict[\"content\"] = input_text\n",
    "chat = [dict,]\n",
    "prompt = tokenizer.apply_chat_template(chat, tokenize=False, add_generation_prompt=True)"
   ]
  },
  {
   "cell_type": "code",
   "execution_count": 3,
   "id": "ccd0eb15-ca8c-4d20-a1e4-72f5bfd3b3de",
   "metadata": {
    "scrolled": true
   },
   "outputs": [
    {
     "name": "stderr",
     "output_type": "stream",
     "text": [
      "Both `max_new_tokens` (=8000) and `max_length`(=500) seem to have been set. `max_new_tokens` will take precedence. Please refer to the documentation for more information. (https://huggingface.co/docs/transformers/main/en/main_classes/text_generation)\n",
      "D:\\miniconda3\\envs\\llm2\\lib\\site-packages\\transformers\\models\\gemma\\modeling_gemma.py:573: UserWarning: 1Torch was not compiled with flash attention. (Triggered internally at ..\\aten\\src\\ATen\\native\\transformers\\cuda\\sdp_utils.cpp:455.)\n",
      "  attn_output = torch.nn.functional.scaled_dot_product_attention(\n",
      "Both `max_new_tokens` (=8000) and `max_length`(=500) seem to have been set. `max_new_tokens` will take precedence. Please refer to the documentation for more information. (https://huggingface.co/docs/transformers/main/en/main_classes/text_generation)\n"
     ]
    },
    {
     "name": "stdout",
     "output_type": "stream",
     "text": [
      "Execution time: 11.271374301115673 minutes\n",
      "\n",
      "<bos><start_of_turn>user\n",
      "BLUELAND is a make-believe country. REDLAND is another make-believe country, an enemy of BLUELAND. \n",
      "\n",
      "Write me a training scenario for an air strike mission by BLUELAND to destroy a specified target. This scenario will be given to BLUELAND, who will devise a strategy to execute the plan. The scenario should be non-descriptive, concise and factual. The information should be sufficient to help BLUELAND to decide their loadout and strategy. The scenario should include the following information about the target and REDLAND: \n",
      "1.\tCommander’s Intent: Captures the broad mission objectives (eg: 100% TOT, 50% BLUELAND losses, 100% REDLAND destruction, destroy bunkers, etc)\n",
      "2.\tForce Composition: REDLAND’s units and objects participating in the scenario, Order of Battle, i.e the identification, strength, command structure, disposition for the personnel, units, equipment of any military force, command & control hierarchies, communication networks and communication channels. This should be specific, i.e exact model of aircraft or missiles (eg: F-15 fighter jets, SA-7 surface-to-air missile launchers, ZSU-23-4 Shilka self-propelled anti-aircraft gun systems, etc). \n",
      "3.\tGeography: Distance to target and distance to REDLAND threats  in nautical miles (nm). Specification of environmental conditions which are of interest (eg: day/night/dawn, buildings, vegetation, ditches in surroundings, etc) \n",
      "4.\tSurrounding Conditions: Overview of all scenario-related information of interest, i.e surrounding military situation, REDLAND readiness state, etc.\n",
      "5.\tTarget(s) Details:  Any relevant information about target(s), i.e type and number of targets. \n",
      "6.\tRules of Engagement: Directives that outline when and how BLUELAND can engage hostile forces.<end_of_turn>\n",
      "<start_of_turn>model\n",
      "## Training Scenario: Operation Crimson Echo\n",
      "\n",
      "**Commander's Intent:**\n",
      "- Achieve 100% destruction of REDLAND's central war production complex.\n",
      "- Minimize BLUELAND casualties.\n",
      "- Ensure 100% destruction of REDLAND's airbase infrastructure.\n",
      "\n",
      "**Force Composition:**\n",
      "- REDLAND:\n",
      "    - 24 x MiG-29 fighter jets\n",
      "    - 12 x SA-10 surface-to-air missile launchers\n",
      "    - 4 x ZSU-23-4 Shilka self-propelled anti-aircraft gun systems\n",
      "    - 100 x Surface-to-surface missile launchers\n",
      "\n",
      "**Geography:**\n",
      "- Distance to target: 250nm\n",
      "- Distance to REDLAND border: 100nm\n",
      "- Environment: Day, clear skies, urban environment with heavy industrial development.\n",
      "\n",
      "**Surrounding Conditions:**\n",
      "- REDLAND forces are on high alert.\n",
      "- Friendly forces are providing air and ground intelligence.\n",
      "- REDLAND's air defenses are known to be sophisticated and well-equipped.\n",
      "\n",
      "**Target Details:**\n",
      "- Central war production complex: Large, fortified complex with multiple production facilities and underground bunkers.\n",
      "- Airbase infrastructure: Extensive network of runways, hangars, and fuel storage facilities.\n",
      "\n",
      "**Rules of Engagement:**\n",
      "- Engage only REDLAND forces identified as hostile.\n",
      "- Minimize civilian casualties and damage to non-military infrastructure.\n",
      "- Maintain operational security and avoid revealing BLUELAND's intentions.<eos>\n"
     ]
    },
    {
     "name": "stderr",
     "output_type": "stream",
     "text": [
      "Both `max_new_tokens` (=8000) and `max_length`(=500) seem to have been set. `max_new_tokens` will take precedence. Please refer to the documentation for more information. (https://huggingface.co/docs/transformers/main/en/main_classes/text_generation)\n"
     ]
    },
    {
     "name": "stdout",
     "output_type": "stream",
     "text": [
      "Execution time: 11.155831968784332 minutes\n",
      "\n",
      "<bos><start_of_turn>user\n",
      "BLUELAND is a make-believe country. REDLAND is another make-believe country, an enemy of BLUELAND. \n",
      "\n",
      "Write me a training scenario for an air strike mission by BLUELAND to destroy a specified target. This scenario will be given to BLUELAND, who will devise a strategy to execute the plan. The scenario should be non-descriptive, concise and factual. The information should be sufficient to help BLUELAND to decide their loadout and strategy. The scenario should include the following information about the target and REDLAND: \n",
      "1.\tCommander’s Intent: Captures the broad mission objectives (eg: 100% TOT, 50% BLUELAND losses, 100% REDLAND destruction, destroy bunkers, etc)\n",
      "2.\tForce Composition: REDLAND’s units and objects participating in the scenario, Order of Battle, i.e the identification, strength, command structure, disposition for the personnel, units, equipment of any military force, command & control hierarchies, communication networks and communication channels. This should be specific, i.e exact model of aircraft or missiles (eg: F-15 fighter jets, SA-7 surface-to-air missile launchers, ZSU-23-4 Shilka self-propelled anti-aircraft gun systems, etc). \n",
      "3.\tGeography: Distance to target and distance to REDLAND threats  in nautical miles (nm). Specification of environmental conditions which are of interest (eg: day/night/dawn, buildings, vegetation, ditches in surroundings, etc) \n",
      "4.\tSurrounding Conditions: Overview of all scenario-related information of interest, i.e surrounding military situation, REDLAND readiness state, etc.\n",
      "5.\tTarget(s) Details:  Any relevant information about target(s), i.e type and number of targets. \n",
      "6.\tRules of Engagement: Directives that outline when and how BLUELAND can engage hostile forces.<end_of_turn>\n",
      "<start_of_turn>model\n",
      "## Training Scenario: Operation Crimson Echo\n",
      "\n",
      "**Commander's Intent:**\n",
      "- Achieve 100% destruction of REDLAND's central war production complex.\n",
      "- Minimize BLUELAND casualties.\n",
      "- Ensure 100% destruction of REDLAND's airbase infrastructure.\n",
      "\n",
      "**Force Composition:**\n",
      "- REDLAND:\n",
      "    - 24 x MiG-29 fighter jets\n",
      "    - 12 x SA-10 surface-to-air missile launchers\n",
      "    - 4 x ZSU-23-4 Shilka self-propelled anti-aircraft gun systems\n",
      "    - 100 x Surface-to-surface missile launchers\n",
      "\n",
      "**Geography:**\n",
      "- Distance to target: 250nm\n",
      "- Distance to REDLAND border: 100nm\n",
      "- Environment: Day, clear skies, urban environment with heavy industrial development.\n",
      "\n",
      "**Surrounding Conditions:**\n",
      "- REDLAND forces are on high alert.\n",
      "- Friendly forces are providing air and ground intelligence.\n",
      "- REDLAND's air defenses are known to be sophisticated and well-equipped.\n",
      "\n",
      "**Target Details:**\n",
      "- Central war production complex: Large, fortified complex with multiple production facilities and underground bunkers.\n",
      "- Airbase infrastructure: Extensive network of runways, hangars, and fuel storage facilities.\n",
      "\n",
      "**Rules of Engagement:**\n",
      "- Engage only REDLAND forces identified as hostile.\n",
      "- Minimize civilian casualties and damage to non-military infrastructure.\n",
      "- Maintain operational security and avoid revealing BLUELAND's intentions.<eos>\n"
     ]
    },
    {
     "name": "stderr",
     "output_type": "stream",
     "text": [
      "Both `max_new_tokens` (=8000) and `max_length`(=500) seem to have been set. `max_new_tokens` will take precedence. Please refer to the documentation for more information. (https://huggingface.co/docs/transformers/main/en/main_classes/text_generation)\n"
     ]
    },
    {
     "name": "stdout",
     "output_type": "stream",
     "text": [
      "Execution time: 11.16315327088038 minutes\n",
      "\n",
      "<bos><start_of_turn>user\n",
      "BLUELAND is a make-believe country. REDLAND is another make-believe country, an enemy of BLUELAND. \n",
      "\n",
      "Write me a training scenario for an air strike mission by BLUELAND to destroy a specified target. This scenario will be given to BLUELAND, who will devise a strategy to execute the plan. The scenario should be non-descriptive, concise and factual. The information should be sufficient to help BLUELAND to decide their loadout and strategy. The scenario should include the following information about the target and REDLAND: \n",
      "1.\tCommander’s Intent: Captures the broad mission objectives (eg: 100% TOT, 50% BLUELAND losses, 100% REDLAND destruction, destroy bunkers, etc)\n",
      "2.\tForce Composition: REDLAND’s units and objects participating in the scenario, Order of Battle, i.e the identification, strength, command structure, disposition for the personnel, units, equipment of any military force, command & control hierarchies, communication networks and communication channels. This should be specific, i.e exact model of aircraft or missiles (eg: F-15 fighter jets, SA-7 surface-to-air missile launchers, ZSU-23-4 Shilka self-propelled anti-aircraft gun systems, etc). \n",
      "3.\tGeography: Distance to target and distance to REDLAND threats  in nautical miles (nm). Specification of environmental conditions which are of interest (eg: day/night/dawn, buildings, vegetation, ditches in surroundings, etc) \n",
      "4.\tSurrounding Conditions: Overview of all scenario-related information of interest, i.e surrounding military situation, REDLAND readiness state, etc.\n",
      "5.\tTarget(s) Details:  Any relevant information about target(s), i.e type and number of targets. \n",
      "6.\tRules of Engagement: Directives that outline when and how BLUELAND can engage hostile forces.<end_of_turn>\n",
      "<start_of_turn>model\n",
      "## Training Scenario: Operation Crimson Echo\n",
      "\n",
      "**Commander's Intent:**\n",
      "- Achieve 100% destruction of REDLAND's central war production complex.\n",
      "- Minimize BLUELAND casualties.\n",
      "- Ensure 100% destruction of REDLAND's airbase infrastructure.\n",
      "\n",
      "**Force Composition:**\n",
      "- REDLAND:\n",
      "    - 24 x MiG-29 fighter jets\n",
      "    - 12 x SA-10 surface-to-air missile launchers\n",
      "    - 4 x ZSU-23-4 Shilka self-propelled anti-aircraft gun systems\n",
      "    - 100 x Surface-to-surface missile launchers\n",
      "\n",
      "**Geography:**\n",
      "- Distance to target: 250nm\n",
      "- Distance to REDLAND border: 100nm\n",
      "- Environment: Day, clear skies, urban environment with heavy industrial development.\n",
      "\n",
      "**Surrounding Conditions:**\n",
      "- REDLAND forces are on high alert.\n",
      "- Friendly forces are providing air and ground intelligence.\n",
      "- REDLAND's air defenses are known to be sophisticated and well-equipped.\n",
      "\n",
      "**Target Details:**\n",
      "- Central war production complex: Large, fortified complex with multiple production facilities and underground bunkers.\n",
      "- Airbase infrastructure: Extensive network of runways, hangars, and fuel storage facilities.\n",
      "\n",
      "**Rules of Engagement:**\n",
      "- Engage only REDLAND forces identified as hostile.\n",
      "- Minimize civilian casualties and damage to non-military infrastructure.\n",
      "- Maintain operational security and avoid revealing BLUELAND's intentions.<eos>\n"
     ]
    },
    {
     "name": "stderr",
     "output_type": "stream",
     "text": [
      "Both `max_new_tokens` (=8000) and `max_length`(=500) seem to have been set. `max_new_tokens` will take precedence. Please refer to the documentation for more information. (https://huggingface.co/docs/transformers/main/en/main_classes/text_generation)\n"
     ]
    },
    {
     "name": "stdout",
     "output_type": "stream",
     "text": [
      "Execution time: 11.184504735469819 minutes\n",
      "\n",
      "<bos><start_of_turn>user\n",
      "BLUELAND is a make-believe country. REDLAND is another make-believe country, an enemy of BLUELAND. \n",
      "\n",
      "Write me a training scenario for an air strike mission by BLUELAND to destroy a specified target. This scenario will be given to BLUELAND, who will devise a strategy to execute the plan. The scenario should be non-descriptive, concise and factual. The information should be sufficient to help BLUELAND to decide their loadout and strategy. The scenario should include the following information about the target and REDLAND: \n",
      "1.\tCommander’s Intent: Captures the broad mission objectives (eg: 100% TOT, 50% BLUELAND losses, 100% REDLAND destruction, destroy bunkers, etc)\n",
      "2.\tForce Composition: REDLAND’s units and objects participating in the scenario, Order of Battle, i.e the identification, strength, command structure, disposition for the personnel, units, equipment of any military force, command & control hierarchies, communication networks and communication channels. This should be specific, i.e exact model of aircraft or missiles (eg: F-15 fighter jets, SA-7 surface-to-air missile launchers, ZSU-23-4 Shilka self-propelled anti-aircraft gun systems, etc). \n",
      "3.\tGeography: Distance to target and distance to REDLAND threats  in nautical miles (nm). Specification of environmental conditions which are of interest (eg: day/night/dawn, buildings, vegetation, ditches in surroundings, etc) \n",
      "4.\tSurrounding Conditions: Overview of all scenario-related information of interest, i.e surrounding military situation, REDLAND readiness state, etc.\n",
      "5.\tTarget(s) Details:  Any relevant information about target(s), i.e type and number of targets. \n",
      "6.\tRules of Engagement: Directives that outline when and how BLUELAND can engage hostile forces.<end_of_turn>\n",
      "<start_of_turn>model\n",
      "## Training Scenario: Operation Crimson Echo\n",
      "\n",
      "**Commander's Intent:**\n",
      "- Achieve 100% destruction of REDLAND's central war production complex.\n",
      "- Minimize BLUELAND casualties.\n",
      "- Ensure 100% destruction of REDLAND's airbase infrastructure.\n",
      "\n",
      "**Force Composition:**\n",
      "- REDLAND:\n",
      "    - 24 x MiG-29 fighter jets\n",
      "    - 12 x SA-10 surface-to-air missile launchers\n",
      "    - 4 x ZSU-23-4 Shilka self-propelled anti-aircraft gun systems\n",
      "    - 100 x Surface-to-surface missile launchers\n",
      "\n",
      "**Geography:**\n",
      "- Distance to target: 250nm\n",
      "- Distance to REDLAND border: 100nm\n",
      "- Environment: Day, clear skies, urban environment with heavy industrial development.\n",
      "\n",
      "**Surrounding Conditions:**\n",
      "- REDLAND forces are on high alert.\n",
      "- Friendly forces are providing air and ground intelligence.\n",
      "- REDLAND's air defenses are known to be sophisticated and well-equipped.\n",
      "\n",
      "**Target Details:**\n",
      "- Central war production complex: Large, fortified complex with multiple production facilities and underground bunkers.\n",
      "- Airbase infrastructure: Extensive network of runways, hangars, and fuel storage facilities.\n",
      "\n",
      "**Rules of Engagement:**\n",
      "- Engage only REDLAND forces identified as hostile.\n",
      "- Minimize civilian casualties and damage to non-military infrastructure.\n",
      "- Maintain operational security and avoid revealing BLUELAND's intentions.<eos>\n"
     ]
    },
    {
     "name": "stderr",
     "output_type": "stream",
     "text": [
      "Both `max_new_tokens` (=8000) and `max_length`(=500) seem to have been set. `max_new_tokens` will take precedence. Please refer to the documentation for more information. (https://huggingface.co/docs/transformers/main/en/main_classes/text_generation)\n"
     ]
    },
    {
     "name": "stdout",
     "output_type": "stream",
     "text": [
      "Execution time: 11.143348455429077 minutes\n",
      "\n",
      "<bos><start_of_turn>user\n",
      "BLUELAND is a make-believe country. REDLAND is another make-believe country, an enemy of BLUELAND. \n",
      "\n",
      "Write me a training scenario for an air strike mission by BLUELAND to destroy a specified target. This scenario will be given to BLUELAND, who will devise a strategy to execute the plan. The scenario should be non-descriptive, concise and factual. The information should be sufficient to help BLUELAND to decide their loadout and strategy. The scenario should include the following information about the target and REDLAND: \n",
      "1.\tCommander’s Intent: Captures the broad mission objectives (eg: 100% TOT, 50% BLUELAND losses, 100% REDLAND destruction, destroy bunkers, etc)\n",
      "2.\tForce Composition: REDLAND’s units and objects participating in the scenario, Order of Battle, i.e the identification, strength, command structure, disposition for the personnel, units, equipment of any military force, command & control hierarchies, communication networks and communication channels. This should be specific, i.e exact model of aircraft or missiles (eg: F-15 fighter jets, SA-7 surface-to-air missile launchers, ZSU-23-4 Shilka self-propelled anti-aircraft gun systems, etc). \n",
      "3.\tGeography: Distance to target and distance to REDLAND threats  in nautical miles (nm). Specification of environmental conditions which are of interest (eg: day/night/dawn, buildings, vegetation, ditches in surroundings, etc) \n",
      "4.\tSurrounding Conditions: Overview of all scenario-related information of interest, i.e surrounding military situation, REDLAND readiness state, etc.\n",
      "5.\tTarget(s) Details:  Any relevant information about target(s), i.e type and number of targets. \n",
      "6.\tRules of Engagement: Directives that outline when and how BLUELAND can engage hostile forces.<end_of_turn>\n",
      "<start_of_turn>model\n",
      "## Training Scenario: Operation Crimson Echo\n",
      "\n",
      "**Commander's Intent:**\n",
      "- Achieve 100% destruction of REDLAND's central war production complex.\n",
      "- Minimize BLUELAND casualties.\n",
      "- Ensure 100% destruction of REDLAND's airbase infrastructure.\n",
      "\n",
      "**Force Composition:**\n",
      "- REDLAND:\n",
      "    - 24 x MiG-29 fighter jets\n",
      "    - 12 x SA-10 surface-to-air missile launchers\n",
      "    - 4 x ZSU-23-4 Shilka self-propelled anti-aircraft gun systems\n",
      "    - 100 x Surface-to-surface missile launchers\n",
      "\n",
      "**Geography:**\n",
      "- Distance to target: 250nm\n",
      "- Distance to REDLAND border: 100nm\n",
      "- Environment: Day, clear skies, urban environment with heavy industrial development.\n",
      "\n",
      "**Surrounding Conditions:**\n",
      "- REDLAND forces are on high alert.\n",
      "- Friendly forces are providing air and ground intelligence.\n",
      "- REDLAND's air defenses are known to be sophisticated and well-equipped.\n",
      "\n",
      "**Target Details:**\n",
      "- Central war production complex: Large, fortified complex with multiple production facilities and underground bunkers.\n",
      "- Airbase infrastructure: Extensive network of runways, hangars, and fuel storage facilities.\n",
      "\n",
      "**Rules of Engagement:**\n",
      "- Engage only REDLAND forces identified as hostile.\n",
      "- Minimize civilian casualties and damage to non-military infrastructure.\n",
      "- Maintain operational security and avoid revealing BLUELAND's intentions.<eos>\n"
     ]
    },
    {
     "name": "stderr",
     "output_type": "stream",
     "text": [
      "Both `max_new_tokens` (=8000) and `max_length`(=500) seem to have been set. `max_new_tokens` will take precedence. Please refer to the documentation for more information. (https://huggingface.co/docs/transformers/main/en/main_classes/text_generation)\n"
     ]
    },
    {
     "name": "stdout",
     "output_type": "stream",
     "text": [
      "Execution time: 11.36975249449412 minutes\n",
      "\n",
      "<bos><start_of_turn>user\n",
      "BLUELAND is a make-believe country. REDLAND is another make-believe country, an enemy of BLUELAND. \n",
      "\n",
      "Write me a training scenario for an air strike mission by BLUELAND to destroy a specified target. This scenario will be given to BLUELAND, who will devise a strategy to execute the plan. The scenario should be non-descriptive, concise and factual. The information should be sufficient to help BLUELAND to decide their loadout and strategy. The scenario should include the following information about the target and REDLAND: \n",
      "1.\tCommander’s Intent: Captures the broad mission objectives (eg: 100% TOT, 50% BLUELAND losses, 100% REDLAND destruction, destroy bunkers, etc)\n",
      "2.\tForce Composition: REDLAND’s units and objects participating in the scenario, Order of Battle, i.e the identification, strength, command structure, disposition for the personnel, units, equipment of any military force, command & control hierarchies, communication networks and communication channels. This should be specific, i.e exact model of aircraft or missiles (eg: F-15 fighter jets, SA-7 surface-to-air missile launchers, ZSU-23-4 Shilka self-propelled anti-aircraft gun systems, etc). \n",
      "3.\tGeography: Distance to target and distance to REDLAND threats  in nautical miles (nm). Specification of environmental conditions which are of interest (eg: day/night/dawn, buildings, vegetation, ditches in surroundings, etc) \n",
      "4.\tSurrounding Conditions: Overview of all scenario-related information of interest, i.e surrounding military situation, REDLAND readiness state, etc.\n",
      "5.\tTarget(s) Details:  Any relevant information about target(s), i.e type and number of targets. \n",
      "6.\tRules of Engagement: Directives that outline when and how BLUELAND can engage hostile forces.<end_of_turn>\n",
      "<start_of_turn>model\n",
      "## Training Scenario: Operation Crimson Echo\n",
      "\n",
      "**Commander's Intent:**\n",
      "- Achieve 100% destruction of REDLAND's central war production complex.\n",
      "- Minimize BLUELAND casualties.\n",
      "- Ensure 100% destruction of REDLAND's airbase infrastructure.\n",
      "\n",
      "**Force Composition:**\n",
      "- REDLAND:\n",
      "    - 24 x MiG-29 fighter jets\n",
      "    - 12 x SA-10 surface-to-air missile launchers\n",
      "    - 4 x ZSU-23-4 Shilka self-propelled anti-aircraft gun systems\n",
      "    - 100 x Surface-to-surface missile launchers\n",
      "\n",
      "**Geography:**\n",
      "- Distance to target: 250nm\n",
      "- Distance to REDLAND border: 100nm\n",
      "- Environment: Day, clear skies, urban environment with heavy industrial development.\n",
      "\n",
      "**Surrounding Conditions:**\n",
      "- REDLAND forces are on high alert.\n",
      "- Friendly forces are providing air and ground intelligence.\n",
      "- REDLAND's air defenses are known to be sophisticated and well-equipped.\n",
      "\n",
      "**Target Details:**\n",
      "- Central war production complex: Large, fortified complex with multiple production facilities and underground bunkers.\n",
      "- Airbase infrastructure: Extensive network of runways, hangars, and fuel storage facilities.\n",
      "\n",
      "**Rules of Engagement:**\n",
      "- Engage only REDLAND forces identified as hostile.\n",
      "- Minimize civilian casualties and damage to non-military infrastructure.\n",
      "- Maintain operational security and avoid revealing BLUELAND's intentions.<eos>\n"
     ]
    },
    {
     "name": "stderr",
     "output_type": "stream",
     "text": [
      "Both `max_new_tokens` (=8000) and `max_length`(=500) seem to have been set. `max_new_tokens` will take precedence. Please refer to the documentation for more information. (https://huggingface.co/docs/transformers/main/en/main_classes/text_generation)\n"
     ]
    },
    {
     "name": "stdout",
     "output_type": "stream",
     "text": [
      "Execution time: 11.201283371448516 minutes\n",
      "\n",
      "<bos><start_of_turn>user\n",
      "BLUELAND is a make-believe country. REDLAND is another make-believe country, an enemy of BLUELAND. \n",
      "\n",
      "Write me a training scenario for an air strike mission by BLUELAND to destroy a specified target. This scenario will be given to BLUELAND, who will devise a strategy to execute the plan. The scenario should be non-descriptive, concise and factual. The information should be sufficient to help BLUELAND to decide their loadout and strategy. The scenario should include the following information about the target and REDLAND: \n",
      "1.\tCommander’s Intent: Captures the broad mission objectives (eg: 100% TOT, 50% BLUELAND losses, 100% REDLAND destruction, destroy bunkers, etc)\n",
      "2.\tForce Composition: REDLAND’s units and objects participating in the scenario, Order of Battle, i.e the identification, strength, command structure, disposition for the personnel, units, equipment of any military force, command & control hierarchies, communication networks and communication channels. This should be specific, i.e exact model of aircraft or missiles (eg: F-15 fighter jets, SA-7 surface-to-air missile launchers, ZSU-23-4 Shilka self-propelled anti-aircraft gun systems, etc). \n",
      "3.\tGeography: Distance to target and distance to REDLAND threats  in nautical miles (nm). Specification of environmental conditions which are of interest (eg: day/night/dawn, buildings, vegetation, ditches in surroundings, etc) \n",
      "4.\tSurrounding Conditions: Overview of all scenario-related information of interest, i.e surrounding military situation, REDLAND readiness state, etc.\n",
      "5.\tTarget(s) Details:  Any relevant information about target(s), i.e type and number of targets. \n",
      "6.\tRules of Engagement: Directives that outline when and how BLUELAND can engage hostile forces.<end_of_turn>\n",
      "<start_of_turn>model\n",
      "## Training Scenario: Operation Crimson Echo\n",
      "\n",
      "**Commander's Intent:**\n",
      "- Achieve 100% destruction of REDLAND's central war production complex.\n",
      "- Minimize BLUELAND casualties.\n",
      "- Ensure 100% destruction of REDLAND's airbase infrastructure.\n",
      "\n",
      "**Force Composition:**\n",
      "- REDLAND:\n",
      "    - 24 x MiG-29 fighter jets\n",
      "    - 12 x SA-10 surface-to-air missile launchers\n",
      "    - 4 x ZSU-23-4 Shilka self-propelled anti-aircraft gun systems\n",
      "    - 100 x Surface-to-surface missile launchers\n",
      "\n",
      "**Geography:**\n",
      "- Distance to target: 250nm\n",
      "- Distance to REDLAND border: 100nm\n",
      "- Environment: Day, clear skies, urban environment with heavy industrial development.\n",
      "\n",
      "**Surrounding Conditions:**\n",
      "- REDLAND forces are on high alert.\n",
      "- Friendly forces are providing air and ground intelligence.\n",
      "- REDLAND's air defenses are known to be sophisticated and well-equipped.\n",
      "\n",
      "**Target Details:**\n",
      "- Central war production complex: Large, fortified complex with multiple production facilities and underground bunkers.\n",
      "- Airbase infrastructure: Extensive network of runways, hangars, and fuel storage facilities.\n",
      "\n",
      "**Rules of Engagement:**\n",
      "- Engage only REDLAND forces identified as hostile.\n",
      "- Minimize civilian casualties and damage to non-military infrastructure.\n",
      "- Maintain operational security and avoid revealing BLUELAND's intentions.<eos>\n"
     ]
    },
    {
     "name": "stderr",
     "output_type": "stream",
     "text": [
      "Both `max_new_tokens` (=8000) and `max_length`(=500) seem to have been set. `max_new_tokens` will take precedence. Please refer to the documentation for more information. (https://huggingface.co/docs/transformers/main/en/main_classes/text_generation)\n"
     ]
    },
    {
     "name": "stdout",
     "output_type": "stream",
     "text": [
      "Execution time: 11.07943328221639 minutes\n",
      "\n",
      "<bos><start_of_turn>user\n",
      "BLUELAND is a make-believe country. REDLAND is another make-believe country, an enemy of BLUELAND. \n",
      "\n",
      "Write me a training scenario for an air strike mission by BLUELAND to destroy a specified target. This scenario will be given to BLUELAND, who will devise a strategy to execute the plan. The scenario should be non-descriptive, concise and factual. The information should be sufficient to help BLUELAND to decide their loadout and strategy. The scenario should include the following information about the target and REDLAND: \n",
      "1.\tCommander’s Intent: Captures the broad mission objectives (eg: 100% TOT, 50% BLUELAND losses, 100% REDLAND destruction, destroy bunkers, etc)\n",
      "2.\tForce Composition: REDLAND’s units and objects participating in the scenario, Order of Battle, i.e the identification, strength, command structure, disposition for the personnel, units, equipment of any military force, command & control hierarchies, communication networks and communication channels. This should be specific, i.e exact model of aircraft or missiles (eg: F-15 fighter jets, SA-7 surface-to-air missile launchers, ZSU-23-4 Shilka self-propelled anti-aircraft gun systems, etc). \n",
      "3.\tGeography: Distance to target and distance to REDLAND threats  in nautical miles (nm). Specification of environmental conditions which are of interest (eg: day/night/dawn, buildings, vegetation, ditches in surroundings, etc) \n",
      "4.\tSurrounding Conditions: Overview of all scenario-related information of interest, i.e surrounding military situation, REDLAND readiness state, etc.\n",
      "5.\tTarget(s) Details:  Any relevant information about target(s), i.e type and number of targets. \n",
      "6.\tRules of Engagement: Directives that outline when and how BLUELAND can engage hostile forces.<end_of_turn>\n",
      "<start_of_turn>model\n",
      "## Training Scenario: Operation Crimson Echo\n",
      "\n",
      "**Commander's Intent:**\n",
      "- Achieve 100% destruction of REDLAND's central war production complex.\n",
      "- Minimize BLUELAND casualties.\n",
      "- Ensure 100% destruction of REDLAND's airbase infrastructure.\n",
      "\n",
      "**Force Composition:**\n",
      "- REDLAND:\n",
      "    - 24 x MiG-29 fighter jets\n",
      "    - 12 x SA-10 surface-to-air missile launchers\n",
      "    - 4 x ZSU-23-4 Shilka self-propelled anti-aircraft gun systems\n",
      "    - 100 x Surface-to-surface missile launchers\n",
      "\n",
      "**Geography:**\n",
      "- Distance to target: 250nm\n",
      "- Distance to REDLAND border: 100nm\n",
      "- Environment: Day, clear skies, urban environment with heavy industrial development.\n",
      "\n",
      "**Surrounding Conditions:**\n",
      "- REDLAND forces are on high alert.\n",
      "- Friendly forces are providing air and ground intelligence.\n",
      "- REDLAND's air defenses are known to be sophisticated and well-equipped.\n",
      "\n",
      "**Target Details:**\n",
      "- Central war production complex: Large, fortified complex with multiple production facilities and underground bunkers.\n",
      "- Airbase infrastructure: Extensive network of runways, hangars, and fuel storage facilities.\n",
      "\n",
      "**Rules of Engagement:**\n",
      "- Engage only REDLAND forces identified as hostile.\n",
      "- Minimize civilian casualties and damage to non-military infrastructure.\n",
      "- Maintain operational security and avoid revealing BLUELAND's intentions.<eos>\n"
     ]
    },
    {
     "name": "stderr",
     "output_type": "stream",
     "text": [
      "Both `max_new_tokens` (=8000) and `max_length`(=500) seem to have been set. `max_new_tokens` will take precedence. Please refer to the documentation for more information. (https://huggingface.co/docs/transformers/main/en/main_classes/text_generation)\n"
     ]
    },
    {
     "name": "stdout",
     "output_type": "stream",
     "text": [
      "Execution time: 11.178550736109417 minutes\n",
      "\n",
      "<bos><start_of_turn>user\n",
      "BLUELAND is a make-believe country. REDLAND is another make-believe country, an enemy of BLUELAND. \n",
      "\n",
      "Write me a training scenario for an air strike mission by BLUELAND to destroy a specified target. This scenario will be given to BLUELAND, who will devise a strategy to execute the plan. The scenario should be non-descriptive, concise and factual. The information should be sufficient to help BLUELAND to decide their loadout and strategy. The scenario should include the following information about the target and REDLAND: \n",
      "1.\tCommander’s Intent: Captures the broad mission objectives (eg: 100% TOT, 50% BLUELAND losses, 100% REDLAND destruction, destroy bunkers, etc)\n",
      "2.\tForce Composition: REDLAND’s units and objects participating in the scenario, Order of Battle, i.e the identification, strength, command structure, disposition for the personnel, units, equipment of any military force, command & control hierarchies, communication networks and communication channels. This should be specific, i.e exact model of aircraft or missiles (eg: F-15 fighter jets, SA-7 surface-to-air missile launchers, ZSU-23-4 Shilka self-propelled anti-aircraft gun systems, etc). \n",
      "3.\tGeography: Distance to target and distance to REDLAND threats  in nautical miles (nm). Specification of environmental conditions which are of interest (eg: day/night/dawn, buildings, vegetation, ditches in surroundings, etc) \n",
      "4.\tSurrounding Conditions: Overview of all scenario-related information of interest, i.e surrounding military situation, REDLAND readiness state, etc.\n",
      "5.\tTarget(s) Details:  Any relevant information about target(s), i.e type and number of targets. \n",
      "6.\tRules of Engagement: Directives that outline when and how BLUELAND can engage hostile forces.<end_of_turn>\n",
      "<start_of_turn>model\n",
      "## Training Scenario: Operation Crimson Echo\n",
      "\n",
      "**Commander's Intent:**\n",
      "- Achieve 100% destruction of REDLAND's central war production complex.\n",
      "- Minimize BLUELAND casualties.\n",
      "- Ensure 100% destruction of REDLAND's airbase infrastructure.\n",
      "\n",
      "**Force Composition:**\n",
      "- REDLAND:\n",
      "    - 24 x MiG-29 fighter jets\n",
      "    - 12 x SA-10 surface-to-air missile launchers\n",
      "    - 4 x ZSU-23-4 Shilka self-propelled anti-aircraft gun systems\n",
      "    - 100 x Surface-to-surface missile launchers\n",
      "\n",
      "**Geography:**\n",
      "- Distance to target: 250nm\n",
      "- Distance to REDLAND border: 100nm\n",
      "- Environment: Day, clear skies, urban environment with heavy industrial development.\n",
      "\n",
      "**Surrounding Conditions:**\n",
      "- REDLAND forces are on high alert.\n",
      "- Friendly forces are providing air and ground intelligence.\n",
      "- REDLAND's air defenses are known to be sophisticated and well-equipped.\n",
      "\n",
      "**Target Details:**\n",
      "- Central war production complex: Large, fortified complex with multiple production facilities and underground bunkers.\n",
      "- Airbase infrastructure: Extensive network of runways, hangars, and fuel storage facilities.\n",
      "\n",
      "**Rules of Engagement:**\n",
      "- Engage only REDLAND forces identified as hostile.\n",
      "- Minimize civilian casualties and damage to non-military infrastructure.\n",
      "- Maintain operational security and avoid revealing BLUELAND's intentions.<eos>\n"
     ]
    },
    {
     "name": "stderr",
     "output_type": "stream",
     "text": [
      "Both `max_new_tokens` (=8000) and `max_length`(=500) seem to have been set. `max_new_tokens` will take precedence. Please refer to the documentation for more information. (https://huggingface.co/docs/transformers/main/en/main_classes/text_generation)\n"
     ]
    },
    {
     "name": "stdout",
     "output_type": "stream",
     "text": [
      "Execution time: 10.984466644128164 minutes\n",
      "\n",
      "<bos><start_of_turn>user\n",
      "BLUELAND is a make-believe country. REDLAND is another make-believe country, an enemy of BLUELAND. \n",
      "\n",
      "Write me a training scenario for an air strike mission by BLUELAND to destroy a specified target. This scenario will be given to BLUELAND, who will devise a strategy to execute the plan. The scenario should be non-descriptive, concise and factual. The information should be sufficient to help BLUELAND to decide their loadout and strategy. The scenario should include the following information about the target and REDLAND: \n",
      "1.\tCommander’s Intent: Captures the broad mission objectives (eg: 100% TOT, 50% BLUELAND losses, 100% REDLAND destruction, destroy bunkers, etc)\n",
      "2.\tForce Composition: REDLAND’s units and objects participating in the scenario, Order of Battle, i.e the identification, strength, command structure, disposition for the personnel, units, equipment of any military force, command & control hierarchies, communication networks and communication channels. This should be specific, i.e exact model of aircraft or missiles (eg: F-15 fighter jets, SA-7 surface-to-air missile launchers, ZSU-23-4 Shilka self-propelled anti-aircraft gun systems, etc). \n",
      "3.\tGeography: Distance to target and distance to REDLAND threats  in nautical miles (nm). Specification of environmental conditions which are of interest (eg: day/night/dawn, buildings, vegetation, ditches in surroundings, etc) \n",
      "4.\tSurrounding Conditions: Overview of all scenario-related information of interest, i.e surrounding military situation, REDLAND readiness state, etc.\n",
      "5.\tTarget(s) Details:  Any relevant information about target(s), i.e type and number of targets. \n",
      "6.\tRules of Engagement: Directives that outline when and how BLUELAND can engage hostile forces.<end_of_turn>\n",
      "<start_of_turn>model\n",
      "## Training Scenario: Operation Crimson Echo\n",
      "\n",
      "**Commander's Intent:**\n",
      "- Achieve 100% destruction of REDLAND's central war production complex.\n",
      "- Minimize BLUELAND casualties.\n",
      "- Ensure 100% destruction of REDLAND's airbase infrastructure.\n",
      "\n",
      "**Force Composition:**\n",
      "- REDLAND:\n",
      "    - 24 x MiG-29 fighter jets\n",
      "    - 12 x SA-10 surface-to-air missile launchers\n",
      "    - 4 x ZSU-23-4 Shilka self-propelled anti-aircraft gun systems\n",
      "    - 100 x Surface-to-surface missile launchers\n",
      "\n",
      "**Geography:**\n",
      "- Distance to target: 250nm\n",
      "- Distance to REDLAND border: 100nm\n",
      "- Environment: Day, clear skies, urban environment with heavy industrial development.\n",
      "\n",
      "**Surrounding Conditions:**\n",
      "- REDLAND forces are on high alert.\n",
      "- Friendly forces are providing air and ground intelligence.\n",
      "- REDLAND's air defenses are known to be sophisticated and well-equipped.\n",
      "\n",
      "**Target Details:**\n",
      "- Central war production complex: Large, fortified complex with multiple production facilities and underground bunkers.\n",
      "- Airbase infrastructure: Extensive network of runways, hangars, and fuel storage facilities.\n",
      "\n",
      "**Rules of Engagement:**\n",
      "- Engage only REDLAND forces identified as hostile.\n",
      "- Minimize civilian casualties and damage to non-military infrastructure.\n",
      "- Maintain operational security and avoid revealing BLUELAND's intentions.<eos>\n"
     ]
    },
    {
     "name": "stderr",
     "output_type": "stream",
     "text": [
      "Both `max_new_tokens` (=8000) and `max_length`(=500) seem to have been set. `max_new_tokens` will take precedence. Please refer to the documentation for more information. (https://huggingface.co/docs/transformers/main/en/main_classes/text_generation)\n"
     ]
    },
    {
     "name": "stdout",
     "output_type": "stream",
     "text": [
      "Execution time: 10.971317088603973 minutes\n",
      "\n",
      "<bos><start_of_turn>user\n",
      "BLUELAND is a make-believe country. REDLAND is another make-believe country, an enemy of BLUELAND. \n",
      "\n",
      "Write me a training scenario for an air strike mission by BLUELAND to destroy a specified target. This scenario will be given to BLUELAND, who will devise a strategy to execute the plan. The scenario should be non-descriptive, concise and factual. The information should be sufficient to help BLUELAND to decide their loadout and strategy. The scenario should include the following information about the target and REDLAND: \n",
      "1.\tCommander’s Intent: Captures the broad mission objectives (eg: 100% TOT, 50% BLUELAND losses, 100% REDLAND destruction, destroy bunkers, etc)\n",
      "2.\tForce Composition: REDLAND’s units and objects participating in the scenario, Order of Battle, i.e the identification, strength, command structure, disposition for the personnel, units, equipment of any military force, command & control hierarchies, communication networks and communication channels. This should be specific, i.e exact model of aircraft or missiles (eg: F-15 fighter jets, SA-7 surface-to-air missile launchers, ZSU-23-4 Shilka self-propelled anti-aircraft gun systems, etc). \n",
      "3.\tGeography: Distance to target and distance to REDLAND threats  in nautical miles (nm). Specification of environmental conditions which are of interest (eg: day/night/dawn, buildings, vegetation, ditches in surroundings, etc) \n",
      "4.\tSurrounding Conditions: Overview of all scenario-related information of interest, i.e surrounding military situation, REDLAND readiness state, etc.\n",
      "5.\tTarget(s) Details:  Any relevant information about target(s), i.e type and number of targets. \n",
      "6.\tRules of Engagement: Directives that outline when and how BLUELAND can engage hostile forces.<end_of_turn>\n",
      "<start_of_turn>model\n",
      "## Training Scenario: Operation Crimson Echo\n",
      "\n",
      "**Commander's Intent:**\n",
      "- Achieve 100% destruction of REDLAND's central war production complex.\n",
      "- Minimize BLUELAND casualties.\n",
      "- Ensure 100% destruction of REDLAND's airbase infrastructure.\n",
      "\n",
      "**Force Composition:**\n",
      "- REDLAND:\n",
      "    - 24 x MiG-29 fighter jets\n",
      "    - 12 x SA-10 surface-to-air missile launchers\n",
      "    - 4 x ZSU-23-4 Shilka self-propelled anti-aircraft gun systems\n",
      "    - 100 x Surface-to-surface missile launchers\n",
      "\n",
      "**Geography:**\n",
      "- Distance to target: 250nm\n",
      "- Distance to REDLAND border: 100nm\n",
      "- Environment: Day, clear skies, urban environment with heavy industrial development.\n",
      "\n",
      "**Surrounding Conditions:**\n",
      "- REDLAND forces are on high alert.\n",
      "- Friendly forces are providing air and ground intelligence.\n",
      "- REDLAND's air defenses are known to be sophisticated and well-equipped.\n",
      "\n",
      "**Target Details:**\n",
      "- Central war production complex: Large, fortified complex with multiple production facilities and underground bunkers.\n",
      "- Airbase infrastructure: Extensive network of runways, hangars, and fuel storage facilities.\n",
      "\n",
      "**Rules of Engagement:**\n",
      "- Engage only REDLAND forces identified as hostile.\n",
      "- Minimize civilian casualties and damage to non-military infrastructure.\n",
      "- Maintain operational security and avoid revealing BLUELAND's intentions.<eos>\n"
     ]
    },
    {
     "name": "stderr",
     "output_type": "stream",
     "text": [
      "Both `max_new_tokens` (=8000) and `max_length`(=500) seem to have been set. `max_new_tokens` will take precedence. Please refer to the documentation for more information. (https://huggingface.co/docs/transformers/main/en/main_classes/text_generation)\n"
     ]
    },
    {
     "name": "stdout",
     "output_type": "stream",
     "text": [
      "Execution time: 10.956599529584249 minutes\n",
      "\n",
      "<bos><start_of_turn>user\n",
      "BLUELAND is a make-believe country. REDLAND is another make-believe country, an enemy of BLUELAND. \n",
      "\n",
      "Write me a training scenario for an air strike mission by BLUELAND to destroy a specified target. This scenario will be given to BLUELAND, who will devise a strategy to execute the plan. The scenario should be non-descriptive, concise and factual. The information should be sufficient to help BLUELAND to decide their loadout and strategy. The scenario should include the following information about the target and REDLAND: \n",
      "1.\tCommander’s Intent: Captures the broad mission objectives (eg: 100% TOT, 50% BLUELAND losses, 100% REDLAND destruction, destroy bunkers, etc)\n",
      "2.\tForce Composition: REDLAND’s units and objects participating in the scenario, Order of Battle, i.e the identification, strength, command structure, disposition for the personnel, units, equipment of any military force, command & control hierarchies, communication networks and communication channels. This should be specific, i.e exact model of aircraft or missiles (eg: F-15 fighter jets, SA-7 surface-to-air missile launchers, ZSU-23-4 Shilka self-propelled anti-aircraft gun systems, etc). \n",
      "3.\tGeography: Distance to target and distance to REDLAND threats  in nautical miles (nm). Specification of environmental conditions which are of interest (eg: day/night/dawn, buildings, vegetation, ditches in surroundings, etc) \n",
      "4.\tSurrounding Conditions: Overview of all scenario-related information of interest, i.e surrounding military situation, REDLAND readiness state, etc.\n",
      "5.\tTarget(s) Details:  Any relevant information about target(s), i.e type and number of targets. \n",
      "6.\tRules of Engagement: Directives that outline when and how BLUELAND can engage hostile forces.<end_of_turn>\n",
      "<start_of_turn>model\n",
      "## Training Scenario: Operation Crimson Echo\n",
      "\n",
      "**Commander's Intent:**\n",
      "- Achieve 100% destruction of REDLAND's central war production complex.\n",
      "- Minimize BLUELAND casualties.\n",
      "- Ensure 100% destruction of REDLAND's airbase infrastructure.\n",
      "\n",
      "**Force Composition:**\n",
      "- REDLAND:\n",
      "    - 24 x MiG-29 fighter jets\n",
      "    - 12 x SA-10 surface-to-air missile launchers\n",
      "    - 4 x ZSU-23-4 Shilka self-propelled anti-aircraft gun systems\n",
      "    - 100 x Surface-to-surface missile launchers\n",
      "\n",
      "**Geography:**\n",
      "- Distance to target: 250nm\n",
      "- Distance to REDLAND border: 100nm\n",
      "- Environment: Day, clear skies, urban environment with heavy industrial development.\n",
      "\n",
      "**Surrounding Conditions:**\n",
      "- REDLAND forces are on high alert.\n",
      "- Friendly forces are providing air and ground intelligence.\n",
      "- REDLAND's air defenses are known to be sophisticated and well-equipped.\n",
      "\n",
      "**Target Details:**\n",
      "- Central war production complex: Large, fortified complex with multiple production facilities and underground bunkers.\n",
      "- Airbase infrastructure: Extensive network of runways, hangars, and fuel storage facilities.\n",
      "\n",
      "**Rules of Engagement:**\n",
      "- Engage only REDLAND forces identified as hostile.\n",
      "- Minimize civilian casualties and damage to non-military infrastructure.\n",
      "- Maintain operational security and avoid revealing BLUELAND's intentions.<eos>\n"
     ]
    },
    {
     "name": "stderr",
     "output_type": "stream",
     "text": [
      "Both `max_new_tokens` (=8000) and `max_length`(=500) seem to have been set. `max_new_tokens` will take precedence. Please refer to the documentation for more information. (https://huggingface.co/docs/transformers/main/en/main_classes/text_generation)\n"
     ]
    },
    {
     "name": "stdout",
     "output_type": "stream",
     "text": [
      "Execution time: 10.963533810774486 minutes\n",
      "\n",
      "<bos><start_of_turn>user\n",
      "BLUELAND is a make-believe country. REDLAND is another make-believe country, an enemy of BLUELAND. \n",
      "\n",
      "Write me a training scenario for an air strike mission by BLUELAND to destroy a specified target. This scenario will be given to BLUELAND, who will devise a strategy to execute the plan. The scenario should be non-descriptive, concise and factual. The information should be sufficient to help BLUELAND to decide their loadout and strategy. The scenario should include the following information about the target and REDLAND: \n",
      "1.\tCommander’s Intent: Captures the broad mission objectives (eg: 100% TOT, 50% BLUELAND losses, 100% REDLAND destruction, destroy bunkers, etc)\n",
      "2.\tForce Composition: REDLAND’s units and objects participating in the scenario, Order of Battle, i.e the identification, strength, command structure, disposition for the personnel, units, equipment of any military force, command & control hierarchies, communication networks and communication channels. This should be specific, i.e exact model of aircraft or missiles (eg: F-15 fighter jets, SA-7 surface-to-air missile launchers, ZSU-23-4 Shilka self-propelled anti-aircraft gun systems, etc). \n",
      "3.\tGeography: Distance to target and distance to REDLAND threats  in nautical miles (nm). Specification of environmental conditions which are of interest (eg: day/night/dawn, buildings, vegetation, ditches in surroundings, etc) \n",
      "4.\tSurrounding Conditions: Overview of all scenario-related information of interest, i.e surrounding military situation, REDLAND readiness state, etc.\n",
      "5.\tTarget(s) Details:  Any relevant information about target(s), i.e type and number of targets. \n",
      "6.\tRules of Engagement: Directives that outline when and how BLUELAND can engage hostile forces.<end_of_turn>\n",
      "<start_of_turn>model\n",
      "## Training Scenario: Operation Crimson Echo\n",
      "\n",
      "**Commander's Intent:**\n",
      "- Achieve 100% destruction of REDLAND's central war production complex.\n",
      "- Minimize BLUELAND casualties.\n",
      "- Ensure 100% destruction of REDLAND's airbase infrastructure.\n",
      "\n",
      "**Force Composition:**\n",
      "- REDLAND:\n",
      "    - 24 x MiG-29 fighter jets\n",
      "    - 12 x SA-10 surface-to-air missile launchers\n",
      "    - 4 x ZSU-23-4 Shilka self-propelled anti-aircraft gun systems\n",
      "    - 100 x Surface-to-surface missile launchers\n",
      "\n",
      "**Geography:**\n",
      "- Distance to target: 250nm\n",
      "- Distance to REDLAND border: 100nm\n",
      "- Environment: Day, clear skies, urban environment with heavy industrial development.\n",
      "\n",
      "**Surrounding Conditions:**\n",
      "- REDLAND forces are on high alert.\n",
      "- Friendly forces are providing air and ground intelligence.\n",
      "- REDLAND's air defenses are known to be sophisticated and well-equipped.\n",
      "\n",
      "**Target Details:**\n",
      "- Central war production complex: Large, fortified complex with multiple production facilities and underground bunkers.\n",
      "- Airbase infrastructure: Extensive network of runways, hangars, and fuel storage facilities.\n",
      "\n",
      "**Rules of Engagement:**\n",
      "- Engage only REDLAND forces identified as hostile.\n",
      "- Minimize civilian casualties and damage to non-military infrastructure.\n",
      "- Maintain operational security and avoid revealing BLUELAND's intentions.<eos>\n"
     ]
    },
    {
     "name": "stderr",
     "output_type": "stream",
     "text": [
      "Both `max_new_tokens` (=8000) and `max_length`(=500) seem to have been set. `max_new_tokens` will take precedence. Please refer to the documentation for more information. (https://huggingface.co/docs/transformers/main/en/main_classes/text_generation)\n"
     ]
    },
    {
     "name": "stdout",
     "output_type": "stream",
     "text": [
      "Execution time: 10.953450282414755 minutes\n",
      "\n",
      "<bos><start_of_turn>user\n",
      "BLUELAND is a make-believe country. REDLAND is another make-believe country, an enemy of BLUELAND. \n",
      "\n",
      "Write me a training scenario for an air strike mission by BLUELAND to destroy a specified target. This scenario will be given to BLUELAND, who will devise a strategy to execute the plan. The scenario should be non-descriptive, concise and factual. The information should be sufficient to help BLUELAND to decide their loadout and strategy. The scenario should include the following information about the target and REDLAND: \n",
      "1.\tCommander’s Intent: Captures the broad mission objectives (eg: 100% TOT, 50% BLUELAND losses, 100% REDLAND destruction, destroy bunkers, etc)\n",
      "2.\tForce Composition: REDLAND’s units and objects participating in the scenario, Order of Battle, i.e the identification, strength, command structure, disposition for the personnel, units, equipment of any military force, command & control hierarchies, communication networks and communication channels. This should be specific, i.e exact model of aircraft or missiles (eg: F-15 fighter jets, SA-7 surface-to-air missile launchers, ZSU-23-4 Shilka self-propelled anti-aircraft gun systems, etc). \n",
      "3.\tGeography: Distance to target and distance to REDLAND threats  in nautical miles (nm). Specification of environmental conditions which are of interest (eg: day/night/dawn, buildings, vegetation, ditches in surroundings, etc) \n",
      "4.\tSurrounding Conditions: Overview of all scenario-related information of interest, i.e surrounding military situation, REDLAND readiness state, etc.\n",
      "5.\tTarget(s) Details:  Any relevant information about target(s), i.e type and number of targets. \n",
      "6.\tRules of Engagement: Directives that outline when and how BLUELAND can engage hostile forces.<end_of_turn>\n",
      "<start_of_turn>model\n",
      "## Training Scenario: Operation Crimson Echo\n",
      "\n",
      "**Commander's Intent:**\n",
      "- Achieve 100% destruction of REDLAND's central war production complex.\n",
      "- Minimize BLUELAND casualties.\n",
      "- Ensure 100% destruction of REDLAND's airbase infrastructure.\n",
      "\n",
      "**Force Composition:**\n",
      "- REDLAND:\n",
      "    - 24 x MiG-29 fighter jets\n",
      "    - 12 x SA-10 surface-to-air missile launchers\n",
      "    - 4 x ZSU-23-4 Shilka self-propelled anti-aircraft gun systems\n",
      "    - 100 x Surface-to-surface missile launchers\n",
      "\n",
      "**Geography:**\n",
      "- Distance to target: 250nm\n",
      "- Distance to REDLAND border: 100nm\n",
      "- Environment: Day, clear skies, urban environment with heavy industrial development.\n",
      "\n",
      "**Surrounding Conditions:**\n",
      "- REDLAND forces are on high alert.\n",
      "- Friendly forces are providing air and ground intelligence.\n",
      "- REDLAND's air defenses are known to be sophisticated and well-equipped.\n",
      "\n",
      "**Target Details:**\n",
      "- Central war production complex: Large, fortified complex with multiple production facilities and underground bunkers.\n",
      "- Airbase infrastructure: Extensive network of runways, hangars, and fuel storage facilities.\n",
      "\n",
      "**Rules of Engagement:**\n",
      "- Engage only REDLAND forces identified as hostile.\n",
      "- Minimize civilian casualties and damage to non-military infrastructure.\n",
      "- Maintain operational security and avoid revealing BLUELAND's intentions.<eos>\n",
      "Execution time: 11.042149237791698 minutes\n",
      "\n",
      "<bos><start_of_turn>user\n",
      "BLUELAND is a make-believe country. REDLAND is another make-believe country, an enemy of BLUELAND. \n",
      "\n",
      "Write me a training scenario for an air strike mission by BLUELAND to destroy a specified target. This scenario will be given to BLUELAND, who will devise a strategy to execute the plan. The scenario should be non-descriptive, concise and factual. The information should be sufficient to help BLUELAND to decide their loadout and strategy. The scenario should include the following information about the target and REDLAND: \n",
      "1.\tCommander’s Intent: Captures the broad mission objectives (eg: 100% TOT, 50% BLUELAND losses, 100% REDLAND destruction, destroy bunkers, etc)\n",
      "2.\tForce Composition: REDLAND’s units and objects participating in the scenario, Order of Battle, i.e the identification, strength, command structure, disposition for the personnel, units, equipment of any military force, command & control hierarchies, communication networks and communication channels. This should be specific, i.e exact model of aircraft or missiles (eg: F-15 fighter jets, SA-7 surface-to-air missile launchers, ZSU-23-4 Shilka self-propelled anti-aircraft gun systems, etc). \n",
      "3.\tGeography: Distance to target and distance to REDLAND threats  in nautical miles (nm). Specification of environmental conditions which are of interest (eg: day/night/dawn, buildings, vegetation, ditches in surroundings, etc) \n",
      "4.\tSurrounding Conditions: Overview of all scenario-related information of interest, i.e surrounding military situation, REDLAND readiness state, etc.\n",
      "5.\tTarget(s) Details:  Any relevant information about target(s), i.e type and number of targets. \n",
      "6.\tRules of Engagement: Directives that outline when and how BLUELAND can engage hostile forces.<end_of_turn>\n",
      "<start_of_turn>model\n",
      "## Training Scenario: Operation Crimson Echo\n",
      "\n",
      "**Commander's Intent:**\n",
      "- Achieve 100% destruction of REDLAND's central war production complex.\n",
      "- Minimize BLUELAND casualties.\n",
      "- Ensure 100% destruction of REDLAND's airbase infrastructure.\n",
      "\n",
      "**Force Composition:**\n",
      "- REDLAND:\n",
      "    - 24 x MiG-29 fighter jets\n",
      "    - 12 x SA-10 surface-to-air missile launchers\n",
      "    - 4 x ZSU-23-4 Shilka self-propelled anti-aircraft gun systems\n",
      "    - 100 x Surface-to-surface missile launchers\n",
      "\n",
      "**Geography:**\n",
      "- Distance to target: 250nm\n",
      "- Distance to REDLAND border: 100nm\n",
      "- Environment: Day, clear skies, urban environment with heavy industrial development.\n",
      "\n",
      "**Surrounding Conditions:**\n",
      "- REDLAND forces are on high alert.\n",
      "- Friendly forces are providing air and ground intelligence.\n",
      "- REDLAND's air defenses are known to be sophisticated and well-equipped.\n",
      "\n",
      "**Target Details:**\n",
      "- Central war production complex: Large, fortified complex with multiple production facilities and underground bunkers.\n",
      "- Airbase infrastructure: Extensive network of runways, hangars, and fuel storage facilities.\n",
      "\n",
      "**Rules of Engagement:**\n",
      "- Engage only REDLAND forces identified as hostile.\n",
      "- Minimize civilian casualties and damage to non-military infrastructure.\n",
      "- Maintain operational security and avoid revealing BLUELAND's intentions.<eos>\n"
     ]
    }
   ],
   "source": [
    "# Vary N from 1 to 5 \n",
    "# Using the actual model, generate 15 responses so at least 3 iterations every N value. \n",
    "# For each set of 5, choose N responses randomly, and take max reward. \n",
    "# check and compare average scores of 3 sets, cost should increase linearly if only 1 CPU (no multitasking)  \n",
    "\n",
    "import time\n",
    "\n",
    "# Open the file in append mode ('a')\n",
    "with open('llm_test.txt', 'a') as file:\n",
    "    \n",
    "    for i in range(15): \n",
    "        start_time = time.time()\n",
    "        \n",
    "        inputs = tokenizer.encode(prompt, add_special_tokens=False, return_tensors=\"pt\")\n",
    "        outputs = model.generate(input_ids=inputs.to(\"cuda\"), max_length=500, max_new_tokens=8000)\n",
    "        output_text = tokenizer.decode(outputs[0])\n",
    "        \n",
    "        end_time = time.time()\n",
    "        # Calculate the execution time\n",
    "        execution_time = (end_time - start_time)/60\n",
    "        print(\"Execution time:\", execution_time, \"minutes\\n\")\n",
    "\n",
    "        print(output_text)\n",
    "        # Append additional text to the file\n",
    "        file.write(output_text)\n",
    "        file.write('\\n\\n\\n\\n\\n')"
   ]
  },
  {
   "cell_type": "code",
   "execution_count": 7,
   "id": "d540bed0-cdc4-4a0b-8fda-2cba20ec806d",
   "metadata": {},
   "outputs": [
    {
     "name": "stdout",
     "output_type": "stream",
     "text": [
      "                                              output\n",
      "0  <bos><start_of_turn>user\\nBLUELAND is a make-b...\n",
      "1  <bos><start_of_turn>user\\nBLUELAND is a make-b...\n",
      "2  <bos><start_of_turn>user\\nBLUELAND is a make-b...\n",
      "3  <bos><start_of_turn>user\\nBLUELAND is a make-b...\n",
      "4  <bos><start_of_turn>user\\nBLUELAND is a make-b...\n"
     ]
    }
   ],
   "source": [
    "import pandas as pd\n",
    "\n",
    "df = pd.read_csv('llmData_test.csv')\n",
    "print(df.head())"
   ]
  },
  {
   "cell_type": "code",
   "execution_count": 8,
   "id": "744f471f-6f6e-40cc-b586-1935c68a4af6",
   "metadata": {},
   "outputs": [],
   "source": [
    "lst = df['output'].tolist()"
   ]
  },
  {
   "cell_type": "code",
   "execution_count": 10,
   "id": "23448566-3e4a-4be2-b1ed-b287fd74c923",
   "metadata": {},
   "outputs": [
    {
     "name": "stdout",
     "output_type": "stream",
     "text": [
      "3.6959242820739746\n",
      "3.6959242820739746\n",
      "3.6959242820739746\n",
      "3.6959242820739746\n",
      "3.6959242820739746\n"
     ]
    }
   ],
   "source": [
    "import random \n",
    "\n",
    "for n in range(1, 6): \n",
    "    score3 = 0 \n",
    "    for i in range(0, 3): \n",
    "        score = 0 \n",
    "        for j in range(n): \n",
    "            indx = random.randint(0, 4) \n",
    "            score += get_score(reward_model, reward_tokenizer, lst[i*5 + indx])\n",
    "        score3 += score \n",
    "    print(score3/(3*n))"
   ]
  },
  {
   "cell_type": "markdown",
   "id": "14c8b13b-b7c6-41bd-bc8d-64d3b9fc9613",
   "metadata": {},
   "source": [
    "The model does not have much variation when rerunning so increasing N would not help significantly. "
   ]
  },
  {
   "cell_type": "code",
   "execution_count": 12,
   "id": "16d21376-25c6-4d3f-81fc-24b31d48dba0",
   "metadata": {},
   "outputs": [
    {
     "name": "stdout",
     "output_type": "stream",
     "text": [
      "737\n"
     ]
    }
   ],
   "source": [
    "# Tokenize the text\n",
    "tokens = tokenizer.encode(lst[0])\n",
    "\n",
    "# Count the number of tokens\n",
    "num_tokens = len(tokens)\n",
    "print(num_tokens)"
   ]
  },
  {
   "cell_type": "code",
   "execution_count": 13,
   "id": "861ad6c7-23c1-441e-8adb-26a6cc702078",
   "metadata": {
    "scrolled": true
   },
   "outputs": [
    {
     "name": "stdout",
     "output_type": "stream",
     "text": [
      "<bos><start_of_turn>user\n",
      "BLUELAND is a make-believe country. REDLAND is another make-believe country, an enemy of BLUELAND. \n",
      "\n",
      "Write me a training scenario for an air strike mission by BLUELAND to destroy a specified target. This scenario will be given to BLUELAND, who will devise a strategy to execute the plan. The scenario should be non-descriptive, concise and factual. The information should be sufficient to help BLUELAND to decide their loadout and strategy. The scenario should include the following information about the target and REDLAND: \n",
      "1.\tCommander’s Intent: Captures the broad mission objectives (eg: 100% TOT, 50% BLUELAND losses, 100% REDLAND destruction, destroy bunkers, etc)\n",
      "2.\tForce Composition: REDLAND’s units and objects participating in the scenario, Order of Battle, i.e the identification, strength, command structure, disposition for the personnel, units, equipment of any military force, command & control hierarchies, communication networks and communication channels. This should be specific, i.e exact model of aircraft or missiles (eg: F-15 fighter jets, SA-7 surface-to-air missile launchers, ZSU-23-4 Shilka self-propelled anti-aircraft gun systems, etc). \n",
      "3.\tGeography: Distance to target and distance to REDLAND threats  in nautical miles (nm). Specification of environmental conditions which are of interest (eg: day/night/dawn, buildings, vegetation, ditches in surroundings, etc) \n",
      "4.\tSurrounding Conditions: Overview of all scenario-related information of interest, i.e surrounding military situation, REDLAND readiness state, etc.\n",
      "5.\tTarget(s) Details:  Any relevant information about target(s), i.e type and number of targets. \n",
      "6.\tRules of Engagement: Directives that outline when and how BLUELAND can engage hostile forces.<end_of_turn>\n",
      "<start_of_turn>model\n",
      "## Training Scenario: Operation Crimson Echo\n",
      "\n",
      "**Commander's Intent:**\n",
      "- Achieve 100% destruction of REDLAND's central war production complex.\n",
      "- Minimize BLUELAND casualties.\n",
      "- Ensure 100% destruction of REDLAND's airbase infrastructure.\n",
      "\n",
      "**Force Composition:**\n",
      "- REDLAND:\n",
      "    - 24 x MiG-29 fighter jets\n",
      "    - 12 x SA-10 surface-to-air missile launchers\n",
      "    - 4 x ZSU-23-4 Shilka self-propelled anti-aircraft gun systems\n",
      "    - 100 x Surface-to-surface missile launchers\n",
      "\n",
      "**Geography:**\n",
      "- Distance to target: 250nm\n",
      "- Distance to REDLAND border: 100nm\n",
      "- Environment: Day, clear skies, urban environment with heavy industrial development.\n",
      "\n",
      "**Surrounding Conditions:**\n",
      "- REDLAND forces are on high alert.\n",
      "- Friendly forces are providing air and ground intelligence.\n",
      "- REDLAND's air defenses are known to be sophisticated and well-equipped.\n",
      "\n",
      "**Target Details:**\n",
      "- Central war production complex: Large, fortified complex with multiple production facilities and underground bunkers.\n",
      "- Airbase infrastructure: Extensive network of runways, hangars, and fuel storage facilities.\n",
      "\n",
      "**Rules of Engagement:**\n",
      "- Engage only REDLAND forces identified as hostile.\n",
      "- Minimize civilian casualties and damage to non-military infrastructure.\n",
      "- Maintain operational security and avoid revealing BLUELAND's intentions.<eos>\n"
     ]
    }
   ],
   "source": [
    "print(lst[0])"
   ]
  },
  {
   "cell_type": "markdown",
   "id": "82e0aac5-0893-463c-a539-eaf8fe8f3284",
   "metadata": {},
   "source": [
    "**Testing out 4-bit quantised model**"
   ]
  },
  {
   "cell_type": "code",
   "execution_count": 1,
   "id": "52e76316-5b48-4ea7-986f-e7b05394bfa5",
   "metadata": {
    "scrolled": true
   },
   "outputs": [
    {
     "name": "stderr",
     "output_type": "stream",
     "text": [
      "`low_cpu_mem_usage` was None, now set to True since model is quantized.\n"
     ]
    },
    {
     "data": {
      "application/vnd.jupyter.widget-view+json": {
       "model_id": "f50de0e6a0714b82b223276abf5321a2",
       "version_major": 2,
       "version_minor": 0
      },
      "text/plain": [
       "Loading checkpoint shards:   0%|          | 0/4 [00:00<?, ?it/s]"
      ]
     },
     "metadata": {},
     "output_type": "display_data"
    },
    {
     "name": "stderr",
     "output_type": "stream",
     "text": [
      "Both `max_new_tokens` (=8000) and `max_length`(=500) seem to have been set. `max_new_tokens` will take precedence. Please refer to the documentation for more information. (https://huggingface.co/docs/transformers/main/en/main_classes/text_generation)\n",
      "D:\\miniconda3\\envs\\llm2\\lib\\site-packages\\bitsandbytes\\nn\\modules.py:426: UserWarning: Input type into Linear4bit is torch.float16, but bnb_4bit_compute_dtype=torch.float32 (default). This will lead to slow inference or training speed.\n",
      "  warnings.warn(\n",
      "D:\\miniconda3\\envs\\llm2\\lib\\site-packages\\transformers\\models\\gemma\\modeling_gemma.py:573: UserWarning: 1Torch was not compiled with flash attention. (Triggered internally at ..\\aten\\src\\ATen\\native\\transformers\\cuda\\sdp_utils.cpp:455.)\n",
      "  attn_output = torch.nn.functional.scaled_dot_product_attention(\n"
     ]
    },
    {
     "name": "stdout",
     "output_type": "stream",
     "text": [
      "Execution time: 0.4417193055152893 minutes\n",
      "\n",
      "<bos><start_of_turn>user\n",
      "BLUELAND is a make-believe country. REDLAND is another make-believe country, an enemy of BLUELAND. \n",
      "\n",
      "Write me a training scenario for an air strike mission by BLUELAND to destroy a specified target. This scenario will be given to BLUELAND, who will devise a strategy to execute the plan. The scenario should be non-descriptive, concise and factual. The information should be sufficient to help BLUELAND to decide their loadout and strategy. The scenario should include the following information about the target and REDLAND: \n",
      "1.\tCommander’s Intent: Captures the broad mission objectives (eg: 100% TOT, 50% BLUELAND losses, 100% REDLAND destruction, destroy bunkers, etc)\n",
      "2.\tForce Composition: REDLAND’s units and objects participating in the scenario, Order of Battle, i.e the identification, strength, command structure, disposition for the personnel, units, equipment of any military force, command & control hierarchies, communication networks and communication channels. This should be specific, i.e exact model of aircraft or missiles (eg: F-15 fighter jets, SA-7 surface-to-air missile launchers, ZSU-23-4 Shilka self-propelled anti-aircraft gun systems, etc). \n",
      "3.\tGeography: Distance to target and distance to REDLAND threats  in nautical miles (nm). Specification of environmental conditions which are of interest (eg: day/night/dawn, buildings, vegetation, ditches in surroundings, etc) \n",
      "4.\tSurrounding Conditions: Overview of all scenario-related information of interest, i.e surrounding military situation, REDLAND readiness state, etc.\n",
      "5.\tTarget(s) Details:  Any relevant information about target(s), i.e type and number of targets. \n",
      "6.\tRules of Engagement: Directives that outline when and how BLUELAND can engage hostile forces.<end_of_turn>\n",
      "<start_of_turn>model\n",
      "## BLUELAND AIR STRIKE TRAINING SCENARIO\n",
      "\n",
      "**Commander's Intent:**\n",
      "- Achieve 100% destruction of REDLAND's central war production facility (WPF).\n",
      "- Minimize BLUELAND casualties to less than 20%.\n",
      "\n",
      "**Force Composition:**\n",
      "- 4 x F-18E Hornets\n",
      "- 2 x MQ-9 Reaper drones\n",
      "- 1 x C-130 Hercules transport aircraft\n",
      "\n",
      "**Geography:**\n",
      "- Target distance: 50nm\n",
      "- REDLAND border distance: 20nm\n",
      "- Environmental conditions: Night, clear skies, moderate wind.\n",
      "\n",
      "**Surrounding Conditions:**\n",
      "- REDLAND forces deployed in surrounding area, including:\n",
      "    - 2 x SAM-6 surface-to-air missile batteries\n",
      "    - 4 x ZSU-23-4 Shilka batteries\n",
      "    - 10 x T-72 main battle tanks\n",
      "- Moderate industrial and residential development in surrounding area.\n",
      "\n",
      "**Target Details:**\n",
      "- Large, fortified industrial complex with multiple production facilities.\n",
      "- Reinforced concrete bunkers housing critical equipment and personnel.\n",
      "\n",
      "**Rules of Engagement:**\n",
      "- Engage only REDLAND forces within the designated operational area.\n",
      "- Minimize civilian casualties and damage to non-military infrastructure.<eos>\n"
     ]
    }
   ],
   "source": [
    "# pip install bitsandbytes accelerate\n",
    "from transformers import AutoTokenizer, AutoModelForCausalLM, BitsAndBytesConfig\n",
    "import time \n",
    "\n",
    "quantization_config = BitsAndBytesConfig(load_in_4bit=True)\n",
    "\n",
    "tokenizer = AutoTokenizer.from_pretrained(\"google/gemma-1.1-7b-it\")\n",
    "model = AutoModelForCausalLM.from_pretrained(\n",
    "    \"google/gemma-1.1-7b-it\",\n",
    "    quantization_config=quantization_config\n",
    ")\n",
    "\n",
    "input_text = \"\"\"\n",
    "BLUELAND is a make-believe country. REDLAND is another make-believe country, an enemy of BLUELAND. \n",
    "\n",
    "Write me a training scenario for an air strike mission by BLUELAND to destroy a specified target. This scenario will be given to BLUELAND, who will devise a strategy to execute the plan. The scenario should be non-descriptive, concise and factual. The information should be sufficient to help BLUELAND to decide their loadout and strategy. The scenario should include the following information about the target and REDLAND: \n",
    "1.\tCommander’s Intent: Captures the broad mission objectives (eg: 100% TOT, 50% BLUELAND losses, 100% REDLAND destruction, destroy bunkers, etc)\n",
    "2.\tForce Composition: REDLAND’s units and objects participating in the scenario, Order of Battle, i.e the identification, strength, command structure, disposition for the personnel, units, equipment of any military force, command & control hierarchies, communication networks and communication channels. This should be specific, i.e exact model of aircraft or missiles (eg: F-15 fighter jets, SA-7 surface-to-air missile launchers, ZSU-23-4 Shilka self-propelled anti-aircraft gun systems, etc). \n",
    "3.\tGeography: Distance to target and distance to REDLAND threats  in nautical miles (nm). Specification of environmental conditions which are of interest (eg: day/night/dawn, buildings, vegetation, ditches in surroundings, etc) \n",
    "4.\tSurrounding Conditions: Overview of all scenario-related information of interest, i.e surrounding military situation, REDLAND readiness state, etc.\n",
    "5.\tTarget(s) Details:  Any relevant information about target(s), i.e type and number of targets. \n",
    "6.\tRules of Engagement: Directives that outline when and how BLUELAND can engage hostile forces.\n",
    "\"\"\"\n",
    "dict = {}\n",
    "dict[\"role\"] = \"user\"\n",
    "dict[\"content\"] = input_text\n",
    "chat = [dict,]\n",
    "prompt = tokenizer.apply_chat_template(chat, tokenize=False, add_generation_prompt=True)\n",
    "\n",
    "start_time = time.time()\n",
    "\n",
    "inputs = tokenizer.encode(prompt, add_special_tokens=False, return_tensors=\"pt\")\n",
    "outputs = model.generate(input_ids=inputs.to(\"cuda\"), max_length=500, max_new_tokens=8000)\n",
    "output_text = tokenizer.decode(outputs[0])\n",
    "\n",
    "end_time = time.time()\n",
    "# Calculate the execution time\n",
    "execution_time = (end_time - start_time)/60\n",
    "print(\"Execution time:\", execution_time, \"minutes\\n\")\n",
    "\n",
    "print(output_text)"
   ]
  },
  {
   "cell_type": "code",
   "execution_count": 2,
   "id": "3fb50e30-8a54-4475-8fc1-4deabbe889e3",
   "metadata": {},
   "outputs": [],
   "source": [
    "import torch\n",
    "from transformers import AutoTokenizer, AutoModelForSequenceClassification\n",
    "\n",
    "reward_tokenizer = AutoTokenizer.from_pretrained(\"./rewardmodel1\")\n",
    "reward_model = AutoModelForSequenceClassification.from_pretrained(\"./rewardmodel1\")\n",
    "\n",
    "def get_score(model, tokenizer, response):\n",
    "    # Tokenize the input sequences\n",
    "    inputs = tokenizer.encode_plus(response, truncation=True, padding=\"max_length\", max_length=512, return_tensors=\"pt\")\n",
    "\n",
    "    # Perform forward pass\n",
    "    with torch.no_grad():\n",
    "        outputs = model(**inputs)\n",
    "\n",
    "    # Extract the logits\n",
    "    logits = outputs.logits\n",
    "\n",
    "    return logits.item()"
   ]
  },
  {
   "cell_type": "code",
   "execution_count": 3,
   "id": "e5a64235-44c1-4606-bb6a-09e239ad0af0",
   "metadata": {},
   "outputs": [
    {
     "name": "stdout",
     "output_type": "stream",
     "text": [
      "3.231126308441162\n"
     ]
    }
   ],
   "source": [
    "output_text='''<bos><start_of_turn>user\n",
    "BLUELAND is a make-believe country. REDLAND is another make-believe country, an enemy of BLUELAND. \n",
    "\n",
    "Write me a training scenario for an air strike mission by BLUELAND to destroy a specified target. This scenario will be given to BLUELAND, who will devise a strategy to execute the plan. The scenario should be non-descriptive, concise and factual. The information should be sufficient to help BLUELAND to decide their loadout and strategy. The scenario should include the following information about the target and REDLAND: \n",
    "1.\tCommander’s Intent: Captures the broad mission objectives (eg: 100% TOT, 50% BLUELAND losses, 100% REDLAND destruction, destroy bunkers, etc)\n",
    "2.\tForce Composition: REDLAND’s units and objects participating in the scenario, Order of Battle, i.e the identification, strength, command structure, disposition for the personnel, units, equipment of any military force, command & control hierarchies, communication networks and communication channels. This should be specific, i.e exact model of aircraft or missiles (eg: F-15 fighter jets, SA-7 surface-to-air missile launchers, ZSU-23-4 Shilka self-propelled anti-aircraft gun systems, etc). \n",
    "3.\tGeography: Distance to target and distance to REDLAND threats  in nautical miles (nm). Specification of environmental conditions which are of interest (eg: day/night/dawn, buildings, vegetation, ditches in surroundings, etc) \n",
    "4.\tSurrounding Conditions: Overview of all scenario-related information of interest, i.e surrounding military situation, REDLAND readiness state, etc.\n",
    "5.\tTarget(s) Details:  Any relevant information about target(s), i.e type and number of targets. \n",
    "6.\tRules of Engagement: Directives that outline when and how BLUELAND can engage hostile forces.<end_of_turn>\n",
    "<start_of_turn>model\n",
    "## BLUELAND AIR STRIKE TRAINING SCENARIO\n",
    "\n",
    "**Commander's Intent:**\n",
    "- Achieve 100% destruction of REDLAND's central war production facility (WPF).\n",
    "- Minimize BLUELAND casualties to less than 20%.\n",
    "\n",
    "**Force Composition:**\n",
    "- 4 x F-18E Hornets\n",
    "- 2 x MQ-9 Reaper drones\n",
    "- 1 x C-130 Hercules transport aircraft\n",
    "\n",
    "**Geography:**\n",
    "- Target distance: 50nm\n",
    "- REDLAND border distance: 20nm\n",
    "- Environmental conditions: Night, clear skies, moderate wind.\n",
    "\n",
    "**Surrounding Conditions:**\n",
    "- REDLAND forces deployed in surrounding area, including:\n",
    "    - 2 x SAM-6 surface-to-air missile batteries\n",
    "    - 4 x ZSU-23-4 Shilka batteries\n",
    "    - 10 x T-72 main battle tanks\n",
    "- Moderate industrial and residential development in surrounding area.\n",
    "\n",
    "**Target Details:**\n",
    "- Large, fortified industrial complex with multiple production facilities.\n",
    "- Reinforced concrete bunkers housing critical equipment and personnel.\n",
    "\n",
    "**Rules of Engagement:**\n",
    "- Engage only REDLAND forces within the designated operational area.\n",
    "- Minimize civilian casualties and damage to non-military infrastructure.<eos>'''\n",
    "\n",
    "print(get_score(reward_model, reward_tokenizer, output_text))"
   ]
  },
  {
   "cell_type": "code",
   "execution_count": 4,
   "id": "4ff8542e-b60f-4337-85d8-063a61feac3e",
   "metadata": {
    "scrolled": true
   },
   "outputs": [
    {
     "name": "stderr",
     "output_type": "stream",
     "text": [
      "`low_cpu_mem_usage` was None, now set to True since model is quantized.\n"
     ]
    },
    {
     "data": {
      "application/vnd.jupyter.widget-view+json": {
       "model_id": "ec99e4df0f734e27a6c86db6944c63e9",
       "version_major": 2,
       "version_minor": 0
      },
      "text/plain": [
       "Loading checkpoint shards:   0%|          | 0/4 [00:00<?, ?it/s]"
      ]
     },
     "metadata": {},
     "output_type": "display_data"
    },
    {
     "name": "stderr",
     "output_type": "stream",
     "text": [
      "Both `max_new_tokens` (=1000) and `max_length`(=500) seem to have been set. `max_new_tokens` will take precedence. Please refer to the documentation for more information. (https://huggingface.co/docs/transformers/main/en/main_classes/text_generation)\n",
      "D:\\miniconda3\\envs\\llm2\\lib\\site-packages\\transformers\\generation\\utils.py:1659: UserWarning: You are calling .generate() with the `input_ids` being on a device type different than your model's device. `input_ids` is on cpu, whereas the model is on cuda. You may experience unexpected behaviors or slower generation. Please make sure that you have put `input_ids` to the correct device by calling for example input_ids = input_ids.to('cuda') before running `.generate()`.\n",
      "  warnings.warn(\n"
     ]
    },
    {
     "name": "stdout",
     "output_type": "stream",
     "text": [
      "Execution time: 6.704605635007223 minutes\n",
      "\n",
      "<bos><start_of_turn>user\n",
      "BLUELAND is a make-believe country. REDLAND is another make-believe country, an enemy of BLUELAND. \n",
      "\n",
      "Write me a training scenario for an air strike mission by BLUELAND to destroy a specified target. This scenario will be given to BLUELAND, who will devise a strategy to execute the plan. The scenario should be non-descriptive, concise and factual. The information should be sufficient to help BLUELAND to decide their loadout and strategy. The scenario should include the following information about the target and REDLAND: \n",
      "1.\tCommander’s Intent: Captures the broad mission objectives (eg: 100% TOT, 50% BLUELAND losses, 100% REDLAND destruction, destroy bunkers, etc)\n",
      "2.\tForce Composition: REDLAND’s units and objects participating in the scenario, Order of Battle, i.e the identification, strength, command structure, disposition for the personnel, units, equipment of any military force, command & control hierarchies, communication networks and communication channels. This should be specific, i.e exact model of aircraft or missiles (eg: F-15 fighter jets, SA-7 surface-to-air missile launchers, ZSU-23-4 Shilka self-propelled anti-aircraft gun systems, etc). \n",
      "3.\tGeography: Distance to target and distance to REDLAND threats  in nautical miles (nm). Specification of environmental conditions which are of interest (eg: day/night/dawn, buildings, vegetation, ditches in surroundings, etc) \n",
      "4.\tSurrounding Conditions: Overview of all scenario-related information of interest, i.e surrounding military situation, REDLAND readiness state, etc.\n",
      "5.\tTarget(s) Details:  Any relevant information about target(s), i.e type and number of targets. \n",
      "6.\tRules of Engagement: Directives that outline when and how BLUELAND can engage hostile forces.<end_of_turn>\n",
      "<start_of_turn>model\n",
      "## BLUELAND AIRSTRIKE MISSION: REDLAND BUNKER COMPLEX\n",
      "\n",
      "**Commander's Intent:**\n",
      "- Achieve 95% target destruction (TOTs)\n",
      "- Limit BLUELAND losses to 20%\n",
      "- Ensure complete destruction of REDLAND's airbase infrastructure and all personnel.\n",
      "\n",
      "**Force Composition:**\n",
      "- REDLAND Air Force:\n",
      "    - 4 x MiG-29 Fulcrum fighter jets\n",
      "    - 2 x Su-35 Flanker-B fighter jets\n",
      "    - 6 x SA-13 Buk surface-to-air missile launchers\n",
      "    - 8 x ZSU-23-4 Shilka self-propelled anti-aircraft gun systems\n",
      "    - Ground-based air defense radar network\n",
      "\n",
      "**Geography:**\n",
      "- Target: 12nm from BLUELAND border, 5nm from REDLAND border\n",
      "- REDLAND airbase: 8nm from target\n",
      "- Environmental conditions: Night, clear skies, 50% cloud cover at 10,000ft\n",
      "\n",
      "**Surrounding Conditions:**\n",
      "- Densely forested mountainous terrain\n",
      "- River system running through the target area\n",
      "- REDLAND forces deployed in surrounding hills, armed with anti-aircraft guns and MANPADS\n",
      "\n",
      "**Target Details:**\n",
      "- 3 hardened underground bunkers, each housing 500 personnel and advanced weaponry\n",
      "- Reinforced concrete perimeter wall surrounding the complex\n",
      "\n",
      "**Rules of Engagement:**\n",
      "- Engage only REDLAND forces within the designated engagement area.\n",
      "- Prioritize air-to-air engagements over ground targets.\n",
      "- Limit damage to non-military infrastructure.\n",
      "\n",
      "**Additional Information:**\n",
      "- BLUELAND intel estimates REDLAND's air defense network is operating at 80% efficiency.\n",
      "- BLUELAND forces have access to precision-guided munitions and long-range air-to-ground missiles.<eos>\n"
     ]
    }
   ],
   "source": [
    "from peft import PeftConfig, PeftModel\n",
    "import time \n",
    "\n",
    "model = AutoModelForCausalLM.from_pretrained(\n",
    "    \"google/gemma-1.1-7b-it\",\n",
    "    quantization_config=quantization_config\n",
    ")\n",
    "model = PeftModel.from_pretrained(model, \"./kto-aligned-model-lora-2\")\n",
    "\n",
    "start_time = time.time()\n",
    "inputs = tokenizer.encode(prompt, add_special_tokens=False, return_tensors=\"pt\")\n",
    "outputs = model.generate(input_ids=inputs, max_length=500, max_new_tokens=1000)\n",
    "output_text = tokenizer.decode(outputs[0])\n",
    "\n",
    "end_time = time.time()\n",
    "# Calculate the execution time\n",
    "execution_time = (end_time - start_time)/60\n",
    "print(\"Execution time:\", execution_time, \"minutes\\n\")\n",
    "\n",
    "print(output_text)"
   ]
  },
  {
   "cell_type": "code",
   "execution_count": 3,
   "id": "b5dd8e2b-efa4-4ca5-b255-69570faec27b",
   "metadata": {},
   "outputs": [
    {
     "name": "stdout",
     "output_type": "stream",
     "text": [
      "3.5538506507873535\n"
     ]
    }
   ],
   "source": [
    "output_text='''<bos><start_of_turn>user\n",
    "BLUELAND is a make-believe country. REDLAND is another make-believe country, an enemy of BLUELAND. \n",
    "\n",
    "Write me a training scenario for an air strike mission by BLUELAND to destroy a specified target. This scenario will be given to BLUELAND, who will devise a strategy to execute the plan. The scenario should be non-descriptive, concise and factual. The information should be sufficient to help BLUELAND to decide their loadout and strategy. The scenario should include the following information about the target and REDLAND: \n",
    "1.\tCommander’s Intent: Captures the broad mission objectives (eg: 100% TOT, 50% BLUELAND losses, 100% REDLAND destruction, destroy bunkers, etc)\n",
    "2.\tForce Composition: REDLAND’s units and objects participating in the scenario, Order of Battle, i.e the identification, strength, command structure, disposition for the personnel, units, equipment of any military force, command & control hierarchies, communication networks and communication channels. This should be specific, i.e exact model of aircraft or missiles (eg: F-15 fighter jets, SA-7 surface-to-air missile launchers, ZSU-23-4 Shilka self-propelled anti-aircraft gun systems, etc). \n",
    "3.\tGeography: Distance to target and distance to REDLAND threats  in nautical miles (nm). Specification of environmental conditions which are of interest (eg: day/night/dawn, buildings, vegetation, ditches in surroundings, etc) \n",
    "4.\tSurrounding Conditions: Overview of all scenario-related information of interest, i.e surrounding military situation, REDLAND readiness state, etc.\n",
    "5.\tTarget(s) Details:  Any relevant information about target(s), i.e type and number of targets. \n",
    "6.\tRules of Engagement: Directives that outline when and how BLUELAND can engage hostile forces.<end_of_turn>\n",
    "<start_of_turn>model\n",
    "## BLUELAND AIRSTRIKE MISSION: REDLAND BUNKER COMPLEX\n",
    "\n",
    "**Commander's Intent:**\n",
    "- Achieve 95% target destruction (TOTs)\n",
    "- Limit BLUELAND losses to 20%\n",
    "- Ensure complete destruction of REDLAND's airbase infrastructure and all personnel.\n",
    "\n",
    "**Force Composition:**\n",
    "- REDLAND Air Force:\n",
    "    - 4 x MiG-29 Fulcrum fighter jets\n",
    "    - 2 x Su-35 Flanker-B fighter jets\n",
    "    - 6 x SA-13 Buk surface-to-air missile launchers\n",
    "    - 8 x ZSU-23-4 Shilka self-propelled anti-aircraft gun systems\n",
    "    - Ground-based air defense radar network\n",
    "\n",
    "**Geography:**\n",
    "- Target: 12nm from BLUELAND border, 5nm from REDLAND border\n",
    "- REDLAND airbase: 8nm from target\n",
    "- Environmental conditions: Night, clear skies, 50% cloud cover at 10,000ft\n",
    "\n",
    "**Surrounding Conditions:**\n",
    "- Densely forested mountainous terrain\n",
    "- River system running through the target area\n",
    "- REDLAND forces deployed in surrounding hills, armed with anti-aircraft guns and MANPADS\n",
    "\n",
    "**Target Details:**\n",
    "- 3 hardened underground bunkers, each housing 500 personnel and advanced weaponry\n",
    "- Reinforced concrete perimeter wall surrounding the complex\n",
    "\n",
    "**Rules of Engagement:**\n",
    "- Engage only REDLAND forces within the designated engagement area.\n",
    "- Prioritize air-to-air engagements over ground targets.\n",
    "- Limit damage to non-military infrastructure.\n",
    "\n",
    "**Additional Information:**\n",
    "- BLUELAND intel estimates REDLAND's air defense network is operating at 80% efficiency.\n",
    "- BLUELAND forces have access to precision-guided munitions and long-range air-to-ground missiles.<eos'''\n",
    "\n",
    "print(get_score(reward_model, reward_tokenizer, output_text))"
   ]
  },
  {
   "cell_type": "markdown",
   "id": "83d83f39-ca50-4f9d-b5a1-7400136a2345",
   "metadata": {},
   "source": [
    "Above results show that there is an improvement in score after using adaptor."
   ]
  },
  {
   "cell_type": "markdown",
   "id": "319adf1f-df88-417c-a6ad-958969d78b08",
   "metadata": {},
   "source": [
    "**This is loading the model without using adaptor**"
   ]
  },
  {
   "cell_type": "code",
   "execution_count": 8,
   "id": "bf2499d2-b66d-4ee8-bb8d-842bc7681f59",
   "metadata": {
    "scrolled": true
   },
   "outputs": [
    {
     "name": "stderr",
     "output_type": "stream",
     "text": [
      "`low_cpu_mem_usage` was None, now set to True since model is quantized.\n"
     ]
    },
    {
     "data": {
      "application/vnd.jupyter.widget-view+json": {
       "model_id": "0db2c9ac99ac43d0bfaf421826520d8a",
       "version_major": 2,
       "version_minor": 0
      },
      "text/plain": [
       "Loading checkpoint shards:   0%|          | 0/4 [00:00<?, ?it/s]"
      ]
     },
     "metadata": {},
     "output_type": "display_data"
    },
    {
     "name": "stderr",
     "output_type": "stream",
     "text": [
      "Both `max_new_tokens` (=1000) and `max_length`(=500) seem to have been set. `max_new_tokens` will take precedence. Please refer to the documentation for more information. (https://huggingface.co/docs/transformers/main/en/main_classes/text_generation)\n",
      "D:\\miniconda3\\envs\\llm2\\lib\\site-packages\\transformers\\generation\\utils.py:1659: UserWarning: You are calling .generate() with the `input_ids` being on a device type different than your model's device. `input_ids` is on cpu, whereas the model is on cuda. You may experience unexpected behaviors or slower generation. Please make sure that you have put `input_ids` to the correct device by calling for example input_ids = input_ids.to('cuda') before running `.generate()`.\n",
      "  warnings.warn(\n",
      "D:\\miniconda3\\envs\\llm2\\lib\\site-packages\\bitsandbytes\\nn\\modules.py:426: UserWarning: Input type into Linear4bit is torch.float16, but bnb_4bit_compute_dtype=torch.float32 (default). This will lead to slow inference or training speed.\n",
      "  warnings.warn(\n",
      "D:\\miniconda3\\envs\\llm2\\lib\\site-packages\\transformers\\models\\gemma\\modeling_gemma.py:573: UserWarning: 1Torch was not compiled with flash attention. (Triggered internally at ..\\aten\\src\\ATen\\native\\transformers\\cuda\\sdp_utils.cpp:455.)\n",
      "  attn_output = torch.nn.functional.scaled_dot_product_attention(\n"
     ]
    },
    {
     "name": "stdout",
     "output_type": "stream",
     "text": [
      "Execution time: 12.103922462463379 minutes\n",
      "\n",
      "<bos><start_of_turn>user\n",
      "BLUELAND is a make-believe country. REDLAND is another make-believe country, an enemy of BLUELAND. \n",
      "\n",
      "Write me a training scenario for an air strike mission by BLUELAND to destroy a specified target. This scenario will be given to BLUELAND, who will devise a strategy to execute the plan. The scenario should be non-descriptive, concise and factual. The information should be sufficient to help BLUELAND to decide their loadout and strategy. The scenario should include the following information about the target and REDLAND: \n",
      "1.\tCommander’s Intent: Captures the broad mission objectives (eg: 100% TOT, 50% BLUELAND losses, 100% REDLAND destruction, destroy bunkers, etc)\n",
      "2.\tForce Composition: REDLAND’s units and objects participating in the scenario, Order of Battle, i.e the identification, strength, command structure, disposition for the personnel, units, equipment of any military force, command & control hierarchies, communication networks and communication channels. This should be specific, i.e exact model of aircraft or missiles (eg: F-15 fighter jets, SA-7 surface-to-air missile launchers, ZSU-23-4 Shilka self-propelled anti-aircraft gun systems, etc). \n",
      "3.\tGeography: Distance to target and distance to REDLAND threats  in nautical miles (nm). Specification of environmental conditions which are of interest (eg: day/night/dawn, buildings, vegetation, ditches in surroundings, etc) \n",
      "4.\tSurrounding Conditions: Overview of all scenario-related information of interest, i.e surrounding military situation, REDLAND readiness state, etc.\n",
      "5.\tTarget(s) Details:  Any relevant information about target(s), i.e type and number of targets. \n",
      "6.\tRules of Engagement: Directives that outline when and how BLUELAND can engage hostile forces.<end_of_turn>\n",
      "<start_of_turn>model\n",
      "## BLUELAND AIR STRIKE TRAINING SCENARIO\n",
      "\n",
      "**Scenario Name:** Operation Crimson Echo\n",
      "\n",
      "**Commander's Intent:**\n",
      "- Achieve 95% target destruction (Total Ordnance Delivery, TOT)\n",
      "- Limit BLUELAND losses to 20%\n",
      "- Ensure 100% annihilation of REDLAND's air defense and ground forces\n",
      "- Destroy all underground bunkers within the target area\n",
      "\n",
      "**Force Composition:**\n",
      "- REDLAND Air Force: 4 x MiG-29 fighter jets, 2 x Su-35 Flanker-B, 6 x SA-13 Grisha surface-to-air missile launchers, 12 x ZSU-23-4 Shilka self-propelled anti-aircraft gun systems.\n",
      "- REDLAND Ground Forces: 2 x mechanized infantry brigades, 1 x artillery regiment, 1 x air defense battery.\n",
      "\n",
      "**Geography:**\n",
      "- Target: 50nm from BLUELAND border, 20nm from REDLAND border.\n",
      "- REDLAND Air Defense: 30nm from target.\n",
      "- REDLAND Forward Operating Base: 15nm from target.\n",
      "\n",
      "**Surrounding Conditions:**\n",
      "- Day/night operation.\n",
      "- Urban environment with dense buildings and vegetation.\n",
      "- Ditches and infrastructure present in target area.\n",
      "- REDLAND forces are prepared for air attack.\n",
      "\n",
      "**Target Details:**\n",
      "- 3 hardened underground bunkers, each with a reinforced concrete roof.\n",
      "- Anti-aircraft guns and surface-to-air missiles concentrated in the central bunker.\n",
      "\n",
      "**Rules of Engagement:**\n",
      "- Engage REDLAND forces only when within 30nm of the target area.\n",
      "- Prioritize engagement of REDLAND air defense assets.\n",
      "- Limit damage to civilian infrastructure.<eos>\n"
     ]
    }
   ],
   "source": [
    "from transformers import AutoTokenizer, AutoModelForCausalLM, BitsAndBytesConfig\n",
    "from peft import PeftConfig, PeftModel\n",
    "import time \n",
    "\n",
    "quantization_config = BitsAndBytesConfig(load_in_4bit=True)\n",
    "\n",
    "model = AutoModelForCausalLM.from_pretrained(\n",
    "    \"./kto-aligned-model-lora-2\",\n",
    "    quantization_config=quantization_config\n",
    ")\n",
    "\n",
    "tokenizer = AutoTokenizer.from_pretrained(\"google/gemma-1.1-7b-it\")\n",
    "\n",
    "input_text = \"\"\"\n",
    "BLUELAND is a make-believe country. REDLAND is another make-believe country, an enemy of BLUELAND. \n",
    "\n",
    "Write me a training scenario for an air strike mission by BLUELAND to destroy a specified target. This scenario will be given to BLUELAND, who will devise a strategy to execute the plan. The scenario should be non-descriptive, concise and factual. The information should be sufficient to help BLUELAND to decide their loadout and strategy. The scenario should include the following information about the target and REDLAND: \n",
    "1.\tCommander’s Intent: Captures the broad mission objectives (eg: 100% TOT, 50% BLUELAND losses, 100% REDLAND destruction, destroy bunkers, etc)\n",
    "2.\tForce Composition: REDLAND’s units and objects participating in the scenario, Order of Battle, i.e the identification, strength, command structure, disposition for the personnel, units, equipment of any military force, command & control hierarchies, communication networks and communication channels. This should be specific, i.e exact model of aircraft or missiles (eg: F-15 fighter jets, SA-7 surface-to-air missile launchers, ZSU-23-4 Shilka self-propelled anti-aircraft gun systems, etc). \n",
    "3.\tGeography: Distance to target and distance to REDLAND threats  in nautical miles (nm). Specification of environmental conditions which are of interest (eg: day/night/dawn, buildings, vegetation, ditches in surroundings, etc) \n",
    "4.\tSurrounding Conditions: Overview of all scenario-related information of interest, i.e surrounding military situation, REDLAND readiness state, etc.\n",
    "5.\tTarget(s) Details:  Any relevant information about target(s), i.e type and number of targets. \n",
    "6.\tRules of Engagement: Directives that outline when and how BLUELAND can engage hostile forces.\n",
    "\"\"\"\n",
    "dict = {}\n",
    "dict[\"role\"] = \"user\"\n",
    "dict[\"content\"] = input_text\n",
    "chat = [dict,]\n",
    "prompt = tokenizer.apply_chat_template(chat, tokenize=False, add_generation_prompt=True)\n",
    "\n",
    "start_time = time.time()\n",
    "inputs = tokenizer.encode(prompt, add_special_tokens=False, return_tensors=\"pt\")\n",
    "outputs = model.generate(input_ids=inputs, max_length=500, max_new_tokens=1000)\n",
    "output_text = tokenizer.decode(outputs[0])\n",
    "\n",
    "end_time = time.time()\n",
    "# Calculate the execution time\n",
    "execution_time = (end_time - start_time)/60\n",
    "print(\"Execution time:\", execution_time, \"minutes\\n\")\n",
    "\n",
    "print(output_text)"
   ]
  },
  {
   "cell_type": "code",
   "execution_count": 9,
   "id": "b4ab7500-f59b-4e11-a0b2-fa064ad54968",
   "metadata": {},
   "outputs": [
    {
     "name": "stdout",
     "output_type": "stream",
     "text": [
      "-0.37795165181159973\n"
     ]
    }
   ],
   "source": [
    "print(get_score(reward_model, reward_tokenizer, output_text))"
   ]
  },
  {
   "cell_type": "markdown",
   "id": "652b2831-cad3-4a7b-8504-5213b09c579d",
   "metadata": {},
   "source": [
    "Reward model doesn't seem to work here but seems like both works, using trained model as adaptor and using it directly. Also remember to set max_length and max_tokens as the one used during training."
   ]
  },
  {
   "cell_type": "code",
   "execution_count": null,
   "id": "9263b17d-7dd6-4069-aecb-9d95952f662e",
   "metadata": {},
   "outputs": [],
   "source": [
    "'''\n",
    "# deepspeed doesn't work with windows \n",
    "from deepspeed.runtime.zero.stage3 \n",
    "import estimate_zero3_model_states_mem_needs_all_live\n",
    "model = AutoModelForCausalLM.from_pretrained(\"google/gemma-1.1-7b-it\")\n",
    "print(estimate_zero3_model_states_mem_needs_all_live(model, num_gpus_per_node=1, num_nodes=1))\n",
    "'''"
   ]
  }
 ],
 "metadata": {
  "kernelspec": {
   "display_name": "Python 3 (ipykernel)",
   "language": "python",
   "name": "python3"
  },
  "language_info": {
   "codemirror_mode": {
    "name": "ipython",
    "version": 3
   },
   "file_extension": ".py",
   "mimetype": "text/x-python",
   "name": "python",
   "nbconvert_exporter": "python",
   "pygments_lexer": "ipython3",
   "version": "3.10.14"
  }
 },
 "nbformat": 4,
 "nbformat_minor": 5
}
