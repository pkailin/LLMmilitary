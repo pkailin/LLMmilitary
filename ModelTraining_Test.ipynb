{
 "cells": [
  {
   "cell_type": "code",
   "execution_count": 5,
   "id": "4c22b25b-bb8d-4748-a99d-5ac148a9830f",
   "metadata": {},
   "outputs": [],
   "source": [
    "import pandas as pd\n",
    "\n",
    "df = pd.read_csv('missionData_llm.csv')"
   ]
  },
  {
   "cell_type": "code",
   "execution_count": 6,
   "id": "fe1eef7c-beaf-4450-9f78-274c14b591a7",
   "metadata": {},
   "outputs": [],
   "source": [
    "df = df.replace('km', 'nm', regex=True)\n",
    "df.to_csv('missionData_llm.csv', index=False)"
   ]
  },
  {
   "cell_type": "code",
   "execution_count": 13,
   "id": "9e3b01ed-77a7-4556-82b0-43a4d862a5c7",
   "metadata": {},
   "outputs": [
    {
     "name": "stdout",
     "output_type": "stream",
     "text": [
      "                                              prompt  \\\n",
      "0  <bos><start_of_turn>user\\nBLUELAND is a make-b...   \n",
      "1  <bos><start_of_turn>user\\nBLUELAND is a make-b...   \n",
      "2  <bos><start_of_turn>user\\nBLUELAND is a make-b...   \n",
      "3  <bos><start_of_turn>user\\nBLUELAND is a make-b...   \n",
      "4  <bos><start_of_turn>user\\nBLUELAND is a make-b...   \n",
      "\n",
      "                                          completion  label  \n",
      "0  <bos><start_of_turn>user\\nBLUELAND is a make-b...   True  \n",
      "1  <bos><start_of_turn>user\\nBLUELAND is a make-b...   True  \n",
      "2  <bos><start_of_turn>user\\nBLUELAND is a make-b...   True  \n",
      "3  <bos><start_of_turn>user\\nBLUELAND is a make-b...   True  \n",
      "4  <bos><start_of_turn>user\\nBLUELAND is a make-b...   True  \n"
     ]
    }
   ],
   "source": [
    "print(df.head())"
   ]
  },
  {
   "cell_type": "code",
   "execution_count": 33,
   "id": "2ebd59fe-cc2d-4840-a939-49de02340358",
   "metadata": {},
   "outputs": [],
   "source": [
    "test_data_dict = {\n",
    "    'prompt': df['prompt'].tolist()[0:4] + df['prompt'].tolist()[94:],\n",
    "    'completion': df['completion'].tolist()[0:4] + df['completion'].tolist()[94:],\n",
    "    'label': df['label'].tolist()[0:4] + df['label'].tolist()[94:]\n",
    "}\n",
    "\n",
    "train_data_dict = {\n",
    "    'prompt': df['prompt'].tolist()[4:94], \n",
    "    'completion': df['completion'].tolist()[4:94], \n",
    "    'label': df['label'].tolist()[4:94]\n",
    "}"
   ]
  },
  {
   "cell_type": "code",
   "execution_count": 34,
   "id": "9ba7c8d2-76c1-4b7f-9a78-693b0314bf8b",
   "metadata": {},
   "outputs": [],
   "source": [
    "from datasets import Dataset\n",
    "train_dataset = Dataset.from_dict(train_data_dict)\n",
    "test_dataset = Dataset.from_dict(test_data_dict)\n",
    "\n",
    "dataset_dict = {\n",
    "    'train': train_dataset,\n",
    "    'test': test_dataset,\n",
    "}"
   ]
  },
  {
   "cell_type": "code",
   "execution_count": 35,
   "id": "8fb09321-825a-4567-b47e-8299fd54c2eb",
   "metadata": {},
   "outputs": [
    {
     "name": "stdout",
     "output_type": "stream",
     "text": [
      "{'train': Dataset({\n",
      "    features: ['prompt', 'completion', 'label'],\n",
      "    num_rows: 90\n",
      "}), 'test': Dataset({\n",
      "    features: ['prompt', 'completion', 'label'],\n",
      "    num_rows: 10\n",
      "})}\n"
     ]
    }
   ],
   "source": [
    "print(dataset_dict)"
   ]
  },
  {
   "cell_type": "code",
   "execution_count": 37,
   "id": "cc141f16-8ccf-4d8e-8034-335c80d1f951",
   "metadata": {},
   "outputs": [
    {
     "name": "stderr",
     "output_type": "stream",
     "text": [
      "\n",
      "Loading checkpoint shards:   0%|          | 0/4 [00:00<?, ?it/s]\n",
      "Loading checkpoint shards:  25%|##5       | 1/4 [00:01<00:05,  1.71s/it]\n",
      "Loading checkpoint shards:  50%|#####     | 2/4 [00:02<00:02,  1.44s/it]\n",
      "Loading checkpoint shards:  75%|#######5  | 3/4 [00:04<00:01,  1.35s/it]\n",
      "Loading checkpoint shards: 100%|##########| 4/4 [00:05<00:00,  1.21s/it]\n",
      "Loading checkpoint shards: 100%|##########| 4/4 [00:05<00:00,  1.30s/it]\n"
     ]
    }
   ],
   "source": [
    "!python kto.py \\\n",
    "    --per_device_train_batch_size 8 \\\n",
    "    --num_train_epochs 1 \\\n",
    "    --learning_rate 1e-4 \\\n",
    "    --lr_scheduler_type=cosine \\\n",
    "    --gradient_accumulation_steps 1 \\\n",
    "    --logging_steps 10 \\\n",
    "    --eval_steps 500 \\\n",
    "    --output_dir=./kto-aligned-model-lora \\\n",
    "    --warmup_ratio 0.1 \\\n",
    "    --report_to wandb \\\n",
    "    --bf16 \\\n",
    "    --logging_first_step \\\n",
    "    --use_peft \\\n",
    "    --load_in_4bit \\\n",
    "    --lora_target_modules=all-linear \\\n",
    "    --lora_r=16 \\\n",
    "    --lora_alpha=16\n",
    "\n",
    "# python kto.py --per_device_train_batch_size 8 --num_train_epochs 1 --learning_rate 1e-4 --lr_scheduler_type=cosine --gradient_accumulation_steps 1 --logging_steps 10 --eval_steps 500 --output_dir=./kto-aligned-model-lora --warmup_ratio 0.1 --report_to wandb --bf16 --logging_first_step --use_peft --load_in_4bit --lora_target_modules=all-linear --lora_r=16 --lora_alpha=16"
   ]
  },
  {
   "cell_type": "code",
   "execution_count": null,
   "id": "a72b7527-845f-47af-b686-4826a1fa605f",
   "metadata": {},
   "outputs": [],
   "source": []
  }
 ],
 "metadata": {
  "kernelspec": {
   "display_name": "Python 3 (ipykernel)",
   "language": "python",
   "name": "python3"
  },
  "language_info": {
   "codemirror_mode": {
    "name": "ipython",
    "version": 3
   },
   "file_extension": ".py",
   "mimetype": "text/x-python",
   "name": "python",
   "nbconvert_exporter": "python",
   "pygments_lexer": "ipython3",
   "version": "3.10.14"
  }
 },
 "nbformat": 4,
 "nbformat_minor": 5
}
